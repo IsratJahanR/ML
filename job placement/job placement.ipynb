{
 "cells": [
  {
   "cell_type": "code",
   "execution_count": 1,
   "metadata": {
    "id": "1OFFY6s-nm3N"
   },
   "outputs": [],
   "source": [
    "import numpy as np\n",
    "import pandas as pd\n"
   ]
  },
  {
   "cell_type": "code",
   "execution_count": 2,
   "metadata": {
    "colab": {
     "base_uri": "https://localhost:8080/",
     "height": 423
    },
    "id": "x96KB6zYoLU_",
    "outputId": "385e0cc0-492a-4a00-fe80-0f03225964df"
   },
   "outputs": [
    {
     "data": {
      "text/html": [
       "<div>\n",
       "<style scoped>\n",
       "    .dataframe tbody tr th:only-of-type {\n",
       "        vertical-align: middle;\n",
       "    }\n",
       "\n",
       "    .dataframe tbody tr th {\n",
       "        vertical-align: top;\n",
       "    }\n",
       "\n",
       "    .dataframe thead th {\n",
       "        text-align: right;\n",
       "    }\n",
       "</style>\n",
       "<table border=\"1\" class=\"dataframe\">\n",
       "  <thead>\n",
       "    <tr style=\"text-align: right;\">\n",
       "      <th></th>\n",
       "      <th>Unnamed: 0</th>\n",
       "      <th>cgpa</th>\n",
       "      <th>iq</th>\n",
       "      <th>placement</th>\n",
       "    </tr>\n",
       "  </thead>\n",
       "  <tbody>\n",
       "    <tr>\n",
       "      <th>0</th>\n",
       "      <td>0</td>\n",
       "      <td>6.8</td>\n",
       "      <td>123.0</td>\n",
       "      <td>1</td>\n",
       "    </tr>\n",
       "    <tr>\n",
       "      <th>1</th>\n",
       "      <td>1</td>\n",
       "      <td>5.9</td>\n",
       "      <td>106.0</td>\n",
       "      <td>0</td>\n",
       "    </tr>\n",
       "    <tr>\n",
       "      <th>2</th>\n",
       "      <td>2</td>\n",
       "      <td>5.3</td>\n",
       "      <td>121.0</td>\n",
       "      <td>0</td>\n",
       "    </tr>\n",
       "    <tr>\n",
       "      <th>3</th>\n",
       "      <td>3</td>\n",
       "      <td>7.4</td>\n",
       "      <td>132.0</td>\n",
       "      <td>1</td>\n",
       "    </tr>\n",
       "    <tr>\n",
       "      <th>4</th>\n",
       "      <td>4</td>\n",
       "      <td>5.8</td>\n",
       "      <td>142.0</td>\n",
       "      <td>0</td>\n",
       "    </tr>\n",
       "    <tr>\n",
       "      <th>...</th>\n",
       "      <td>...</td>\n",
       "      <td>...</td>\n",
       "      <td>...</td>\n",
       "      <td>...</td>\n",
       "    </tr>\n",
       "    <tr>\n",
       "      <th>95</th>\n",
       "      <td>95</td>\n",
       "      <td>4.3</td>\n",
       "      <td>200.0</td>\n",
       "      <td>0</td>\n",
       "    </tr>\n",
       "    <tr>\n",
       "      <th>96</th>\n",
       "      <td>96</td>\n",
       "      <td>4.4</td>\n",
       "      <td>42.0</td>\n",
       "      <td>0</td>\n",
       "    </tr>\n",
       "    <tr>\n",
       "      <th>97</th>\n",
       "      <td>97</td>\n",
       "      <td>6.7</td>\n",
       "      <td>182.0</td>\n",
       "      <td>1</td>\n",
       "    </tr>\n",
       "    <tr>\n",
       "      <th>98</th>\n",
       "      <td>98</td>\n",
       "      <td>6.3</td>\n",
       "      <td>103.0</td>\n",
       "      <td>1</td>\n",
       "    </tr>\n",
       "    <tr>\n",
       "      <th>99</th>\n",
       "      <td>99</td>\n",
       "      <td>6.2</td>\n",
       "      <td>113.0</td>\n",
       "      <td>1</td>\n",
       "    </tr>\n",
       "  </tbody>\n",
       "</table>\n",
       "<p>100 rows × 4 columns</p>\n",
       "</div>"
      ],
      "text/plain": [
       "    Unnamed: 0  cgpa     iq  placement\n",
       "0            0   6.8  123.0          1\n",
       "1            1   5.9  106.0          0\n",
       "2            2   5.3  121.0          0\n",
       "3            3   7.4  132.0          1\n",
       "4            4   5.8  142.0          0\n",
       "..         ...   ...    ...        ...\n",
       "95          95   4.3  200.0          0\n",
       "96          96   4.4   42.0          0\n",
       "97          97   6.7  182.0          1\n",
       "98          98   6.3  103.0          1\n",
       "99          99   6.2  113.0          1\n",
       "\n",
       "[100 rows x 4 columns]"
      ]
     },
     "execution_count": 2,
     "metadata": {},
     "output_type": "execute_result"
    }
   ],
   "source": [
    "df = pd.read_csv('placement.csv')\n",
    "df"
   ]
  },
  {
   "cell_type": "code",
   "execution_count": 3,
   "metadata": {
    "colab": {
     "base_uri": "https://localhost:8080/"
    },
    "id": "RVwNZvjgpRB9",
    "outputId": "21ac3cd8-d8c5-40da-d296-813df414c8dd"
   },
   "outputs": [
    {
     "name": "stdout",
     "output_type": "stream",
     "text": [
      "<class 'pandas.core.frame.DataFrame'>\n",
      "RangeIndex: 100 entries, 0 to 99\n",
      "Data columns (total 4 columns):\n",
      " #   Column      Non-Null Count  Dtype  \n",
      "---  ------      --------------  -----  \n",
      " 0   Unnamed: 0  100 non-null    int64  \n",
      " 1   cgpa        100 non-null    float64\n",
      " 2   iq          100 non-null    float64\n",
      " 3   placement   100 non-null    int64  \n",
      "dtypes: float64(2), int64(2)\n",
      "memory usage: 3.3 KB\n"
     ]
    }
   ],
   "source": [
    "df.info()"
   ]
  },
  {
   "cell_type": "code",
   "execution_count": 4,
   "metadata": {
    "colab": {
     "base_uri": "https://localhost:8080/",
     "height": 423
    },
    "id": "K2H28aVcpoei",
    "outputId": "4d6d5e94-4097-4827-9c07-fa85a8d8eaa0"
   },
   "outputs": [
    {
     "data": {
      "text/html": [
       "<div>\n",
       "<style scoped>\n",
       "    .dataframe tbody tr th:only-of-type {\n",
       "        vertical-align: middle;\n",
       "    }\n",
       "\n",
       "    .dataframe tbody tr th {\n",
       "        vertical-align: top;\n",
       "    }\n",
       "\n",
       "    .dataframe thead th {\n",
       "        text-align: right;\n",
       "    }\n",
       "</style>\n",
       "<table border=\"1\" class=\"dataframe\">\n",
       "  <thead>\n",
       "    <tr style=\"text-align: right;\">\n",
       "      <th></th>\n",
       "      <th>cgpa</th>\n",
       "      <th>iq</th>\n",
       "      <th>placement</th>\n",
       "    </tr>\n",
       "  </thead>\n",
       "  <tbody>\n",
       "    <tr>\n",
       "      <th>0</th>\n",
       "      <td>6.8</td>\n",
       "      <td>123.0</td>\n",
       "      <td>1</td>\n",
       "    </tr>\n",
       "    <tr>\n",
       "      <th>1</th>\n",
       "      <td>5.9</td>\n",
       "      <td>106.0</td>\n",
       "      <td>0</td>\n",
       "    </tr>\n",
       "    <tr>\n",
       "      <th>2</th>\n",
       "      <td>5.3</td>\n",
       "      <td>121.0</td>\n",
       "      <td>0</td>\n",
       "    </tr>\n",
       "    <tr>\n",
       "      <th>3</th>\n",
       "      <td>7.4</td>\n",
       "      <td>132.0</td>\n",
       "      <td>1</td>\n",
       "    </tr>\n",
       "    <tr>\n",
       "      <th>4</th>\n",
       "      <td>5.8</td>\n",
       "      <td>142.0</td>\n",
       "      <td>0</td>\n",
       "    </tr>\n",
       "    <tr>\n",
       "      <th>...</th>\n",
       "      <td>...</td>\n",
       "      <td>...</td>\n",
       "      <td>...</td>\n",
       "    </tr>\n",
       "    <tr>\n",
       "      <th>95</th>\n",
       "      <td>4.3</td>\n",
       "      <td>200.0</td>\n",
       "      <td>0</td>\n",
       "    </tr>\n",
       "    <tr>\n",
       "      <th>96</th>\n",
       "      <td>4.4</td>\n",
       "      <td>42.0</td>\n",
       "      <td>0</td>\n",
       "    </tr>\n",
       "    <tr>\n",
       "      <th>97</th>\n",
       "      <td>6.7</td>\n",
       "      <td>182.0</td>\n",
       "      <td>1</td>\n",
       "    </tr>\n",
       "    <tr>\n",
       "      <th>98</th>\n",
       "      <td>6.3</td>\n",
       "      <td>103.0</td>\n",
       "      <td>1</td>\n",
       "    </tr>\n",
       "    <tr>\n",
       "      <th>99</th>\n",
       "      <td>6.2</td>\n",
       "      <td>113.0</td>\n",
       "      <td>1</td>\n",
       "    </tr>\n",
       "  </tbody>\n",
       "</table>\n",
       "<p>100 rows × 3 columns</p>\n",
       "</div>"
      ],
      "text/plain": [
       "    cgpa     iq  placement\n",
       "0    6.8  123.0          1\n",
       "1    5.9  106.0          0\n",
       "2    5.3  121.0          0\n",
       "3    7.4  132.0          1\n",
       "4    5.8  142.0          0\n",
       "..   ...    ...        ...\n",
       "95   4.3  200.0          0\n",
       "96   4.4   42.0          0\n",
       "97   6.7  182.0          1\n",
       "98   6.3  103.0          1\n",
       "99   6.2  113.0          1\n",
       "\n",
       "[100 rows x 3 columns]"
      ]
     },
     "execution_count": 4,
     "metadata": {},
     "output_type": "execute_result"
    }
   ],
   "source": [
    "df = df.iloc[:,1:]\n",
    "df"
   ]
  },
  {
   "cell_type": "code",
   "execution_count": 5,
   "metadata": {
    "colab": {
     "base_uri": "https://localhost:8080/",
     "height": 447
    },
    "id": "JUvBPWMzqeTR",
    "outputId": "278b4624-12b3-4edf-b328-ab16de352357"
   },
   "outputs": [
    {
     "data": {
      "text/plain": [
       "<matplotlib.collections.PathCollection at 0x1bf16e339d0>"
      ]
     },
     "execution_count": 5,
     "metadata": {},
     "output_type": "execute_result"
    },
    {
     "data": {
      "image/png": "[encoded data removed]",
      "text/plain": [
       "<Figure size 640x480 with 1 Axes>"
      ]
     },
     "metadata": {},
     "output_type": "display_data"
    }
   ],
   "source": [
    "import matplotlib.pyplot as plt\n",
    "plt.scatter(df['cgpa'],df['iq'],c=df['placement'])\n"
   ]
  },
  {
   "cell_type": "code",
   "execution_count": 6,
   "metadata": {
    "colab": {
     "base_uri": "https://localhost:8080/",
     "height": 423
    },
    "id": "O-FBthimrsvO",
    "outputId": "b0d42f93-8fc9-4b43-f46a-b1c47c24ebd3"
   },
   "outputs": [
    {
     "data": {
      "text/html": [
       "<div>\n",
       "<style scoped>\n",
       "    .dataframe tbody tr th:only-of-type {\n",
       "        vertical-align: middle;\n",
       "    }\n",
       "\n",
       "    .dataframe tbody tr th {\n",
       "        vertical-align: top;\n",
       "    }\n",
       "\n",
       "    .dataframe thead th {\n",
       "        text-align: right;\n",
       "    }\n",
       "</style>\n",
       "<table border=\"1\" class=\"dataframe\">\n",
       "  <thead>\n",
       "    <tr style=\"text-align: right;\">\n",
       "      <th></th>\n",
       "      <th>cgpa</th>\n",
       "      <th>iq</th>\n",
       "    </tr>\n",
       "  </thead>\n",
       "  <tbody>\n",
       "    <tr>\n",
       "      <th>0</th>\n",
       "      <td>6.8</td>\n",
       "      <td>123.0</td>\n",
       "    </tr>\n",
       "    <tr>\n",
       "      <th>1</th>\n",
       "      <td>5.9</td>\n",
       "      <td>106.0</td>\n",
       "    </tr>\n",
       "    <tr>\n",
       "      <th>2</th>\n",
       "      <td>5.3</td>\n",
       "      <td>121.0</td>\n",
       "    </tr>\n",
       "    <tr>\n",
       "      <th>3</th>\n",
       "      <td>7.4</td>\n",
       "      <td>132.0</td>\n",
       "    </tr>\n",
       "    <tr>\n",
       "      <th>4</th>\n",
       "      <td>5.8</td>\n",
       "      <td>142.0</td>\n",
       "    </tr>\n",
       "    <tr>\n",
       "      <th>...</th>\n",
       "      <td>...</td>\n",
       "      <td>...</td>\n",
       "    </tr>\n",
       "    <tr>\n",
       "      <th>95</th>\n",
       "      <td>4.3</td>\n",
       "      <td>200.0</td>\n",
       "    </tr>\n",
       "    <tr>\n",
       "      <th>96</th>\n",
       "      <td>4.4</td>\n",
       "      <td>42.0</td>\n",
       "    </tr>\n",
       "    <tr>\n",
       "      <th>97</th>\n",
       "      <td>6.7</td>\n",
       "      <td>182.0</td>\n",
       "    </tr>\n",
       "    <tr>\n",
       "      <th>98</th>\n",
       "      <td>6.3</td>\n",
       "      <td>103.0</td>\n",
       "    </tr>\n",
       "    <tr>\n",
       "      <th>99</th>\n",
       "      <td>6.2</td>\n",
       "      <td>113.0</td>\n",
       "    </tr>\n",
       "  </tbody>\n",
       "</table>\n",
       "<p>100 rows × 2 columns</p>\n",
       "</div>"
      ],
      "text/plain": [
       "    cgpa     iq\n",
       "0    6.8  123.0\n",
       "1    5.9  106.0\n",
       "2    5.3  121.0\n",
       "3    7.4  132.0\n",
       "4    5.8  142.0\n",
       "..   ...    ...\n",
       "95   4.3  200.0\n",
       "96   4.4   42.0\n",
       "97   6.7  182.0\n",
       "98   6.3  103.0\n",
       "99   6.2  113.0\n",
       "\n",
       "[100 rows x 2 columns]"
      ]
     },
     "execution_count": 6,
     "metadata": {},
     "output_type": "execute_result"
    }
   ],
   "source": [
    "x=df.iloc[:,0:2]\n",
    "y=df.iloc[:,-1]\n",
    "x\n"
   ]
  },
  {
   "cell_type": "code",
   "execution_count": 7,
   "metadata": {
    "colab": {
     "base_uri": "https://localhost:8080/"
    },
    "id": "Vsr-beIwsEoe",
    "outputId": "b0b3e8a0-b1f6-45a0-aeb6-2fc0d2ef7243"
   },
   "outputs": [
    {
     "data": {
      "text/plain": [
       "0     1\n",
       "1     0\n",
       "2     0\n",
       "3     1\n",
       "4     0\n",
       "     ..\n",
       "95    0\n",
       "96    0\n",
       "97    1\n",
       "98    1\n",
       "99    1\n",
       "Name: placement, Length: 100, dtype: int64"
      ]
     },
     "execution_count": 7,
     "metadata": {},
     "output_type": "execute_result"
    }
   ],
   "source": [
    "y"
   ]
  },
  {
   "cell_type": "code",
   "execution_count": 8,
   "metadata": {
    "id": "2RHYRNV4sm7d"
   },
   "outputs": [],
   "source": [
    "from sklearn.model_selection import train_test_split\n",
    "x_train,x_test,y_train,y_test=train_test_split(x,y,test_size=0.1)"
   ]
  },
  {
   "cell_type": "code",
   "execution_count": 9,
   "metadata": {
    "colab": {
     "base_uri": "https://localhost:8080/",
     "height": 423
    },
    "id": "Qj_mEhgutW9F",
    "outputId": "f161f146-1727-412e-c301-09a2d60dadf9"
   },
   "outputs": [
    {
     "data": {
      "text/html": [
       "<div>\n",
       "<style scoped>\n",
       "    .dataframe tbody tr th:only-of-type {\n",
       "        vertical-align: middle;\n",
       "    }\n",
       "\n",
       "    .dataframe tbody tr th {\n",
       "        vertical-align: top;\n",
       "    }\n",
       "\n",
       "    .dataframe thead th {\n",
       "        text-align: right;\n",
       "    }\n",
       "</style>\n",
       "<table border=\"1\" class=\"dataframe\">\n",
       "  <thead>\n",
       "    <tr style=\"text-align: right;\">\n",
       "      <th></th>\n",
       "      <th>cgpa</th>\n",
       "      <th>iq</th>\n",
       "    </tr>\n",
       "  </thead>\n",
       "  <tbody>\n",
       "    <tr>\n",
       "      <th>15</th>\n",
       "      <td>5.1</td>\n",
       "      <td>176.0</td>\n",
       "    </tr>\n",
       "    <tr>\n",
       "      <th>11</th>\n",
       "      <td>6.9</td>\n",
       "      <td>138.0</td>\n",
       "    </tr>\n",
       "    <tr>\n",
       "      <th>50</th>\n",
       "      <td>3.5</td>\n",
       "      <td>233.0</td>\n",
       "    </tr>\n",
       "    <tr>\n",
       "      <th>87</th>\n",
       "      <td>5.7</td>\n",
       "      <td>132.0</td>\n",
       "    </tr>\n",
       "    <tr>\n",
       "      <th>91</th>\n",
       "      <td>7.5</td>\n",
       "      <td>158.0</td>\n",
       "    </tr>\n",
       "    <tr>\n",
       "      <th>...</th>\n",
       "      <td>...</td>\n",
       "      <td>...</td>\n",
       "    </tr>\n",
       "    <tr>\n",
       "      <th>69</th>\n",
       "      <td>8.5</td>\n",
       "      <td>120.0</td>\n",
       "    </tr>\n",
       "    <tr>\n",
       "      <th>84</th>\n",
       "      <td>5.7</td>\n",
       "      <td>169.0</td>\n",
       "    </tr>\n",
       "    <tr>\n",
       "      <th>95</th>\n",
       "      <td>4.3</td>\n",
       "      <td>200.0</td>\n",
       "    </tr>\n",
       "    <tr>\n",
       "      <th>37</th>\n",
       "      <td>8.1</td>\n",
       "      <td>149.0</td>\n",
       "    </tr>\n",
       "    <tr>\n",
       "      <th>89</th>\n",
       "      <td>4.9</td>\n",
       "      <td>151.0</td>\n",
       "    </tr>\n",
       "  </tbody>\n",
       "</table>\n",
       "<p>90 rows × 2 columns</p>\n",
       "</div>"
      ],
      "text/plain": [
       "    cgpa     iq\n",
       "15   5.1  176.0\n",
       "11   6.9  138.0\n",
       "50   3.5  233.0\n",
       "87   5.7  132.0\n",
       "91   7.5  158.0\n",
       "..   ...    ...\n",
       "69   8.5  120.0\n",
       "84   5.7  169.0\n",
       "95   4.3  200.0\n",
       "37   8.1  149.0\n",
       "89   4.9  151.0\n",
       "\n",
       "[90 rows x 2 columns]"
      ]
     },
     "execution_count": 9,
     "metadata": {},
     "output_type": "execute_result"
    }
   ],
   "source": [
    "x_train"
   ]
  },
  {
   "cell_type": "code",
   "execution_count": 10,
   "metadata": {
    "colab": {
     "base_uri": "https://localhost:8080/",
     "height": 363
    },
    "id": "57aw4fVctqbo",
    "outputId": "4b5252c4-9985-4a0a-ad92-93a961016313"
   },
   "outputs": [
    {
     "data": {
      "text/html": [
       "<div>\n",
       "<style scoped>\n",
       "    .dataframe tbody tr th:only-of-type {\n",
       "        vertical-align: middle;\n",
       "    }\n",
       "\n",
       "    .dataframe tbody tr th {\n",
       "        vertical-align: top;\n",
       "    }\n",
       "\n",
       "    .dataframe thead th {\n",
       "        text-align: right;\n",
       "    }\n",
       "</style>\n",
       "<table border=\"1\" class=\"dataframe\">\n",
       "  <thead>\n",
       "    <tr style=\"text-align: right;\">\n",
       "      <th></th>\n",
       "      <th>cgpa</th>\n",
       "      <th>iq</th>\n",
       "    </tr>\n",
       "  </thead>\n",
       "  <tbody>\n",
       "    <tr>\n",
       "      <th>72</th>\n",
       "      <td>7.3</td>\n",
       "      <td>116.0</td>\n",
       "    </tr>\n",
       "    <tr>\n",
       "      <th>45</th>\n",
       "      <td>6.0</td>\n",
       "      <td>66.0</td>\n",
       "    </tr>\n",
       "    <tr>\n",
       "      <th>59</th>\n",
       "      <td>4.8</td>\n",
       "      <td>112.0</td>\n",
       "    </tr>\n",
       "    <tr>\n",
       "      <th>63</th>\n",
       "      <td>6.3</td>\n",
       "      <td>128.0</td>\n",
       "    </tr>\n",
       "    <tr>\n",
       "      <th>98</th>\n",
       "      <td>6.3</td>\n",
       "      <td>103.0</td>\n",
       "    </tr>\n",
       "    <tr>\n",
       "      <th>97</th>\n",
       "      <td>6.7</td>\n",
       "      <td>182.0</td>\n",
       "    </tr>\n",
       "    <tr>\n",
       "      <th>51</th>\n",
       "      <td>4.8</td>\n",
       "      <td>141.0</td>\n",
       "    </tr>\n",
       "    <tr>\n",
       "      <th>49</th>\n",
       "      <td>5.4</td>\n",
       "      <td>135.0</td>\n",
       "    </tr>\n",
       "    <tr>\n",
       "      <th>14</th>\n",
       "      <td>6.1</td>\n",
       "      <td>103.0</td>\n",
       "    </tr>\n",
       "    <tr>\n",
       "      <th>33</th>\n",
       "      <td>6.0</td>\n",
       "      <td>149.0</td>\n",
       "    </tr>\n",
       "  </tbody>\n",
       "</table>\n",
       "</div>"
      ],
      "text/plain": [
       "    cgpa     iq\n",
       "72   7.3  116.0\n",
       "45   6.0   66.0\n",
       "59   4.8  112.0\n",
       "63   6.3  128.0\n",
       "98   6.3  103.0\n",
       "97   6.7  182.0\n",
       "51   4.8  141.0\n",
       "49   5.4  135.0\n",
       "14   6.1  103.0\n",
       "33   6.0  149.0"
      ]
     },
     "execution_count": 10,
     "metadata": {},
     "output_type": "execute_result"
    }
   ],
   "source": [
    "x_test"
   ]
  },
  {
   "cell_type": "code",
   "execution_count": 11,
   "metadata": {
    "id": "iKyCAd1r125a"
   },
   "outputs": [],
   "source": [
    "from sklearn.preprocessing import StandardScaler\n"
   ]
  },
  {
   "cell_type": "code",
   "execution_count": 12,
   "metadata": {
    "id": "Ew6BH2in2Fk4"
   },
   "outputs": [],
   "source": [
    "scaler = StandardScaler()"
   ]
  },
  {
   "cell_type": "code",
   "execution_count": 13,
   "metadata": {
    "id": "spD2gF8N2PCw"
   },
   "outputs": [],
   "source": [
    "x_train=scaler.fit_transform(x_train)"
   ]
  },
  {
   "cell_type": "code",
   "execution_count": 14,
   "metadata": {
    "colab": {
     "base_uri": "https://localhost:8080/"
    },
    "id": "pWPSJ5IZ2b6s",
    "outputId": "3a7604b4-452d-4c42-a141-2aaf030b837a"
   },
   "outputs": [
    {
     "data": {
      "text/plain": [
       "array([[-0.76144968,  1.28770908],\n",
       "       [ 0.7728146 ,  0.35407222],\n",
       "       [-2.12524015,  2.68816437],\n",
       "       [-0.25002825,  0.20665588],\n",
       "       [ 1.28423602,  0.84546004],\n",
       "       [-0.50573897, -0.23559316],\n",
       "       [-0.67621277, -0.33387072],\n",
       "       [ 1.53994674, -0.23559316],\n",
       "       [ 0.8580515 ,  1.85280508],\n",
       "       [ 0.09091936,  0.79632126],\n",
       "       [ 0.68757769, -0.28473194],\n",
       "       [-2.29571395,  1.45969482],\n",
       "       [ 0.00568246,  0.01010075],\n",
       "       [ 0.43186698, -0.82525854],\n",
       "       [-0.67621277, -0.82525854],\n",
       "       [ 0.34663008,  0.4277804 ],\n",
       "       [ 0.8580515 , -0.28473194],\n",
       "       [-0.76144968, -1.41492393],\n",
       "       [-0.93192349,  0.77175187],\n",
       "       [ 0.09091936,  0.20665588],\n",
       "       [ 1.11376222,  0.32950283],\n",
       "       [-1.1876342 ,  0.55062735],\n",
       "       [-0.67621277,  0.91916822],\n",
       "       [ 0.7728146 , -0.6778422 ],\n",
       "       [-0.93192349,  1.7790969 ],\n",
       "       [ 0.8580515 ,  1.26313969],\n",
       "       [ 1.71042055, -1.09552185],\n",
       "       [-0.93192349,  0.25579466],\n",
       "       [ 0.34663008, -0.18645438],\n",
       "       [ 1.11376222, -1.80803418],\n",
       "       [-0.84668658, -0.1373156 ],\n",
       "       [-0.16479135,  0.45234979],\n",
       "       [ 1.28423602,  0.1575171 ],\n",
       "       [-1.10239729, -0.89896672],\n",
       "       [-0.67621277,  0.20665588],\n",
       "       [ 0.68757769, -0.82525854],\n",
       "       [ 0.7728146 ,  0.37864161],\n",
       "       [-0.59097587, -0.06360742],\n",
       "       [ 1.96613126,  1.09115395],\n",
       "       [-0.25002825,  0.47691918],\n",
       "       [ 0.94328841,  0.67347431],\n",
       "       [ 0.17615627, -0.26016255],\n",
       "       [ 0.51710389, -0.08817681],\n",
       "       [ 0.43186698,  0.1575171 ],\n",
       "       [-1.01716039,  1.11572334],\n",
       "       [-0.16479135,  1.04201517],\n",
       "       [ 0.09091936, -1.04638306],\n",
       "       [-1.10239729, -0.06360742],\n",
       "       [ 0.00568246, -1.93088114],\n",
       "       [ 0.00568246, -0.53042585],\n",
       "       [ 0.94328841, -1.85717297],\n",
       "       [ 0.8580515 ,  0.37864161],\n",
       "       [ 0.51710389,  0.35407222],\n",
       "       [-1.01716039,  0.968307  ],\n",
       "       [ 1.36947293, -0.84982794],\n",
       "       [-1.69905562, -0.57956463],\n",
       "       [-0.50573897, -0.4075789 ],\n",
       "       [-0.07955444, -0.43214829],\n",
       "       [ 0.26139317,  0.08380892],\n",
       "       [ 0.43186698,  0.89459883],\n",
       "       [ 1.36947293,  0.10837831],\n",
       "       [-0.67621277,  2.46703985],\n",
       "       [-0.93192349, -0.08817681],\n",
       "       [ 0.68757769, -0.01446864],\n",
       "       [-0.50573897,  0.37864161],\n",
       "       [ 0.68757769,  0.4277804 ],\n",
       "       [ 1.11376222, -0.92353611],\n",
       "       [-0.84668658, -0.80068915],\n",
       "       [-0.25002825,  0.40321101],\n",
       "       [ 1.79565745,  1.04201517],\n",
       "       [-1.35810801,  0.62433552],\n",
       "       [-1.10239729, -1.7588954 ],\n",
       "       [ 1.28423602, -1.53777088],\n",
       "       [ 0.8580515 , -1.46406271],\n",
       "       [-1.69905562, -1.19379941],\n",
       "       [ 0.09091936, -1.43949332],\n",
       "       [ 1.19899912,  0.20665588],\n",
       "       [-1.35810801, -2.00458931],\n",
       "       [-0.93192349, -1.53777088],\n",
       "       [-0.59097587, -0.23559316],\n",
       "       [-0.84668658, -1.4886321 ],\n",
       "       [ 0.60234079,  0.74718248],\n",
       "       [-0.76144968,  0.10837831],\n",
       "       [-1.78429253, -0.35844012],\n",
       "       [ 0.43186698, -2.12743627],\n",
       "       [ 2.13660507, -0.08817681],\n",
       "       [-0.25002825,  1.11572334],\n",
       "       [-1.44334491,  1.87737447],\n",
       "       [ 1.79565745,  0.62433552],\n",
       "       [-0.93192349,  0.67347431]])"
      ]
     },
     "execution_count": 14,
     "metadata": {},
     "output_type": "execute_result"
    }
   ],
   "source": [
    "x_train"
   ]
  },
  {
   "cell_type": "code",
   "execution_count": 15,
   "metadata": {
    "colab": {
     "base_uri": "https://localhost:8080/"
    },
    "id": "TCQ_5fwB2uto",
    "outputId": "8c1c3af7-3a77-448b-9700-7af9850e51ac"
   },
   "outputs": [
    {
     "data": {
      "text/plain": [
       "array([[ 1.11376222, -0.18645438],\n",
       "       [ 0.00568246, -1.41492393],\n",
       "       [-1.01716039, -0.28473194],\n",
       "       [ 0.26139317,  0.10837831],\n",
       "       [ 0.26139317, -0.50585646],\n",
       "       [ 0.60234079,  1.43512543],\n",
       "       [-1.01716039,  0.4277804 ],\n",
       "       [-0.50573897,  0.28036405],\n",
       "       [ 0.09091936, -0.50585646],\n",
       "       [ 0.00568246,  0.62433552]])"
      ]
     },
     "execution_count": 15,
     "metadata": {},
     "output_type": "execute_result"
    }
   ],
   "source": [
    "x_test=scaler.transform(x_test)\n",
    "x_test"
   ]
  },
  {
   "cell_type": "code",
   "execution_count": 16,
   "metadata": {
    "id": "z7Kf-hb93xya"
   },
   "outputs": [],
   "source": [
    "from sklearn.linear_model import LogisticRegression\n"
   ]
  },
  {
   "cell_type": "code",
   "execution_count": 17,
   "metadata": {
    "id": "heyuUXpH39QF"
   },
   "outputs": [],
   "source": [
    "clf = LogisticRegression()"
   ]
  },
  {
   "cell_type": "code",
   "execution_count": 18,
   "metadata": {
    "colab": {
     "base_uri": "https://localhost:8080/",
     "height": 74
    },
    "id": "jwDIh4Oe4S8o",
    "outputId": "1475ac61-6875-4b28-9621-4271389dc6a8"
   },
   "outputs": [
    {
     "data": {
      "text/html": [
       "<style>#sk-container-id-1 {color: black;}#sk-container-id-1 pre{padding: 0;}#sk-container-id-1 div.sk-toggleable {background-color: white;}#sk-container-id-1 label.sk-toggleable__label {cursor: pointer;display: block;width: 100%;margin-bottom: 0;padding: 0.3em;box-sizing: border-box;text-align: center;}#sk-container-id-1 label.sk-toggleable__label-arrow:before {content: \"▸\";float: left;margin-right: 0.25em;color: #696969;}#sk-container-id-1 label.sk-toggleable__label-arrow:hover:before {color: black;}#sk-container-id-1 div.sk-estimator:hover label.sk-toggleable__label-arrow:before {color: black;}#sk-container-id-1 div.sk-toggleable__content {max-height: 0;max-width: 0;overflow: hidden;text-align: left;background-color: #f0f8ff;}#sk-container-id-1 div.sk-toggleable__content pre {margin: 0.2em;color: black;border-radius: 0.25em;background-color: #f0f8ff;}#sk-container-id-1 input.sk-toggleable__control:checked~div.sk-toggleable__content {max-height: 200px;max-width: 100%;overflow: auto;}#sk-container-id-1 input.sk-toggleable__control:checked~label.sk-toggleable__label-arrow:before {content: \"▾\";}#sk-container-id-1 div.sk-estimator input.sk-toggleable__control:checked~label.sk-toggleable__label {background-color: #d4ebff;}#sk-container-id-1 div.sk-label input.sk-toggleable__control:checked~label.sk-toggleable__label {background-color: #d4ebff;}#sk-container-id-1 input.sk-hidden--visually {border: 0;clip: rect(1px 1px 1px 1px);clip: rect(1px, 1px, 1px, 1px);height: 1px;margin: -1px;overflow: hidden;padding: 0;position: absolute;width: 1px;}#sk-container-id-1 div.sk-estimator {font-family: monospace;background-color: #f0f8ff;border: 1px dotted black;border-radius: 0.25em;box-sizing: border-box;margin-bottom: 0.5em;}#sk-container-id-1 div.sk-estimator:hover {background-color: #d4ebff;}#sk-container-id-1 div.sk-parallel-item::after {content: \"\";width: 100%;border-bottom: 1px solid gray;flex-grow: 1;}#sk-container-id-1 div.sk-label:hover label.sk-toggleable__label {background-color: #d4ebff;}#sk-container-id-1 div.sk-serial::before {content: \"\";position: absolute;border-left: 1px solid gray;box-sizing: border-box;top: 0;bottom: 0;left: 50%;z-index: 0;}#sk-container-id-1 div.sk-serial {display: flex;flex-direction: column;align-items: center;background-color: white;padding-right: 0.2em;padding-left: 0.2em;position: relative;}#sk-container-id-1 div.sk-item {position: relative;z-index: 1;}#sk-container-id-1 div.sk-parallel {display: flex;align-items: stretch;justify-content: center;background-color: white;position: relative;}#sk-container-id-1 div.sk-item::before, #sk-container-id-1 div.sk-parallel-item::before {content: \"\";position: absolute;border-left: 1px solid gray;box-sizing: border-box;top: 0;bottom: 0;left: 50%;z-index: -1;}#sk-container-id-1 div.sk-parallel-item {display: flex;flex-direction: column;z-index: 1;position: relative;background-color: white;}#sk-container-id-1 div.sk-parallel-item:first-child::after {align-self: flex-end;width: 50%;}#sk-container-id-1 div.sk-parallel-item:last-child::after {align-self: flex-start;width: 50%;}#sk-container-id-1 div.sk-parallel-item:only-child::after {width: 0;}#sk-container-id-1 div.sk-dashed-wrapped {border: 1px dashed gray;margin: 0 0.4em 0.5em 0.4em;box-sizing: border-box;padding-bottom: 0.4em;background-color: white;}#sk-container-id-1 div.sk-label label {font-family: monospace;font-weight: bold;display: inline-block;line-height: 1.2em;}#sk-container-id-1 div.sk-label-container {text-align: center;}#sk-container-id-1 div.sk-container {/* jupyter's `normalize.less` sets `[hidden] { display: none; }` but bootstrap.min.css set `[hidden] { display: none !important; }` so we also need the `!important` here to be able to override the default hidden behavior on the sphinx rendered scikit-learn.org. See: https://github.com/scikit-learn/scikit-learn/issues/21755 */display: inline-block !important;position: relative;}#sk-container-id-1 div.sk-text-repr-fallback {display: none;}</style><div id=\"sk-container-id-1\" class=\"sk-top-container\"><div class=\"sk-text-repr-fallback\"><pre>LogisticRegression()</pre><b>In a Jupyter environment, please rerun this cell to show the HTML representation or trust the notebook. <br />On GitHub, the HTML representation is unable to render, please try loading this page with nbviewer.org.</b></div><div class=\"sk-container\" hidden><div class=\"sk-item\"><div class=\"sk-estimator sk-toggleable\"><input class=\"sk-toggleable__control sk-hidden--visually\" id=\"sk-estimator-id-1\" type=\"checkbox\" checked><label for=\"sk-estimator-id-1\" class=\"sk-toggleable__label sk-toggleable__label-arrow\">LogisticRegression</label><div class=\"sk-toggleable__content\"><pre>LogisticRegression()</pre></div></div></div></div></div>"
      ],
      "text/plain": [
       "LogisticRegression()"
      ]
     },
     "execution_count": 18,
     "metadata": {},
     "output_type": "execute_result"
    }
   ],
   "source": [
    "#Model Training\n",
    "clf.fit(x_train,y_train)"
   ]
  },
  {
   "cell_type": "code",
   "execution_count": 19,
   "metadata": {
    "colab": {
     "base_uri": "https://localhost:8080/"
    },
    "id": "YvBmbMvc44FB",
    "outputId": "b5fe98fc-5414-4496-9664-04ae7e4a664e"
   },
   "outputs": [
    {
     "data": {
      "text/plain": [
       "array([1, 1, 0, 1, 1, 1, 0, 0, 1, 1], dtype=int64)"
      ]
     },
     "execution_count": 19,
     "metadata": {},
     "output_type": "execute_result"
    }
   ],
   "source": [
    "y_pred = clf.predict(x_test)\n",
    "y_pred"
   ]
  },
  {
   "cell_type": "code",
   "execution_count": 20,
   "metadata": {
    "colab": {
     "base_uri": "https://localhost:8080/"
    },
    "id": "OJwzD7XC5ENl",
    "outputId": "2eff1af6-1458-4ca9-ee00-5c7dc05c583f"
   },
   "outputs": [
    {
     "data": {
      "text/plain": [
       "72    1\n",
       "45    1\n",
       "59    0\n",
       "63    1\n",
       "98    1\n",
       "97    1\n",
       "51    0\n",
       "49    0\n",
       "14    0\n",
       "33    0\n",
       "Name: placement, dtype: int64"
      ]
     },
     "execution_count": 20,
     "metadata": {},
     "output_type": "execute_result"
    }
   ],
   "source": [
    "y_test"
   ]
  },
  {
   "cell_type": "code",
   "execution_count": 21,
   "metadata": {
    "id": "Z7F92uRC5SlQ"
   },
   "outputs": [],
   "source": [
    "from sklearn.metrics import accuracy_score"
   ]
  },
  {
   "cell_type": "code",
   "execution_count": 22,
   "metadata": {
    "colab": {
     "base_uri": "https://localhost:8080/"
    },
    "id": "mFNhdzxK5dJa",
    "outputId": "4f7eaaf1-bd3d-416d-d079-1055d29cb7a7"
   },
   "outputs": [
    {
     "data": {
      "text/plain": [
       "0.8"
      ]
     },
     "execution_count": 22,
     "metadata": {},
     "output_type": "execute_result"
    }
   ],
   "source": [
    "accuracy_score(y_test,y_pred)"
   ]
  },
  {
   "cell_type": "code",
   "execution_count": 23,
   "metadata": {},
   "outputs": [
    {
     "name": "stdout",
     "output_type": "stream",
     "text": [
      "Collecting mlxtend\n",
      "  Obtaining dependency information for mlxtend from https://files.pythonhosted.org/packages/1c/07/512f6a780239ad6ce06ce2aa7b4067583f5ddcfc7703a964a082c706a070/mlxtend-0.23.1-py3-none-any.whl.metadata\n",
      "  Using cached mlxtend-0.23.1-py3-none-any.whl.metadata (7.3 kB)\n",
      "Requirement already satisfied: scipy>=1.2.1 in c:\\users\\hp\\anaconda3\\lib\\site-packages (from mlxtend) (1.11.1)\n",
      "Requirement already satisfied: numpy>=1.16.2 in c:\\users\\hp\\anaconda3\\lib\\site-packages (from mlxtend) (1.24.3)\n",
      "Requirement already satisfied: pandas>=0.24.2 in c:\\users\\hp\\anaconda3\\lib\\site-packages (from mlxtend) (2.0.3)\n",
      "Requirement already satisfied: scikit-learn>=1.0.2 in c:\\users\\hp\\anaconda3\\lib\\site-packages (from mlxtend) (1.3.0)\n",
      "Requirement already satisfied: matplotlib>=3.0.0 in c:\\users\\hp\\anaconda3\\lib\\site-packages (from mlxtend) (3.7.2)\n",
      "Requirement already satisfied: joblib>=0.13.2 in c:\\users\\hp\\anaconda3\\lib\\site-packages (from mlxtend) (1.2.0)\n",
      "Requirement already satisfied: contourpy>=1.0.1 in c:\\users\\hp\\anaconda3\\lib\\site-packages (from matplotlib>=3.0.0->mlxtend) (1.0.5)\n",
      "Requirement already satisfied: cycler>=0.10 in c:\\users\\hp\\anaconda3\\lib\\site-packages (from matplotlib>=3.0.0->mlxtend) (0.11.0)\n",
      "Requirement already satisfied: fonttools>=4.22.0 in c:\\users\\hp\\anaconda3\\lib\\site-packages (from matplotlib>=3.0.0->mlxtend) (4.25.0)\n",
      "Requirement already satisfied: kiwisolver>=1.0.1 in c:\\users\\hp\\anaconda3\\lib\\site-packages (from matplotlib>=3.0.0->mlxtend) (1.4.4)\n",
      "Requirement already satisfied: packaging>=20.0 in c:\\users\\hp\\anaconda3\\lib\\site-packages (from matplotlib>=3.0.0->mlxtend) (23.1)\n",
      "Requirement already satisfied: pillow>=6.2.0 in c:\\users\\hp\\anaconda3\\lib\\site-packages (from matplotlib>=3.0.0->mlxtend) (9.4.0)\n",
      "Requirement already satisfied: pyparsing<3.1,>=2.3.1 in c:\\users\\hp\\anaconda3\\lib\\site-packages (from matplotlib>=3.0.0->mlxtend) (3.0.9)\n",
      "Requirement already satisfied: python-dateutil>=2.7 in c:\\users\\hp\\anaconda3\\lib\\site-packages (from matplotlib>=3.0.0->mlxtend) (2.8.2)\n",
      "Requirement already satisfied: pytz>=2020.1 in c:\\users\\hp\\anaconda3\\lib\\site-packages (from pandas>=0.24.2->mlxtend) (2023.3.post1)\n",
      "Requirement already satisfied: tzdata>=2022.1 in c:\\users\\hp\\anaconda3\\lib\\site-packages (from pandas>=0.24.2->mlxtend) (2023.3)\n",
      "Requirement already satisfied: threadpoolctl>=2.0.0 in c:\\users\\hp\\anaconda3\\lib\\site-packages (from scikit-learn>=1.0.2->mlxtend) (2.2.0)\n",
      "Requirement already satisfied: six>=1.5 in c:\\users\\hp\\anaconda3\\lib\\site-packages (from python-dateutil>=2.7->matplotlib>=3.0.0->mlxtend) (1.16.0)\n",
      "Downloading mlxtend-0.23.1-py3-none-any.whl (1.4 MB)\n",
      "   ---------------------------------------- 0.0/1.4 MB ? eta -:--:--\n",
      "   ---------------------------------------- 0.0/1.4 MB ? eta -:--:--\n",
      "   ---------------------------------------- 0.0/1.4 MB ? eta -:--:--\n",
      "    --------------------------------------- 0.0/1.4 MB 187.9 kB/s eta 0:00:08\n",
      "   - -------------------------------------- 0.0/1.4 MB 178.6 kB/s eta 0:00:08\n",
      "   - -------------------------------------- 0.1/1.4 MB 233.8 kB/s eta 0:00:06\n",
      "   -- ------------------------------------- 0.1/1.4 MB 308.0 kB/s eta 0:00:05\n",
      "   --- ------------------------------------ 0.1/1.4 MB 361.0 kB/s eta 0:00:04\n",
      "   ---- ----------------------------------- 0.2/1.4 MB 456.4 kB/s eta 0:00:03\n",
      "   ----- ---------------------------------- 0.2/1.4 MB 491.5 kB/s eta 0:00:03\n",
      "   ----- ---------------------------------- 0.2/1.4 MB 461.0 kB/s eta 0:00:03\n",
      "   ----- ---------------------------------- 0.2/1.4 MB 461.0 kB/s eta 0:00:03\n",
      "   ----- ---------------------------------- 0.2/1.4 MB 461.0 kB/s eta 0:00:03\n",
      "   ----- ---------------------------------- 0.2/1.4 MB 461.0 kB/s eta 0:00:03\n",
      "   ----- ---------------------------------- 0.2/1.4 MB 461.0 kB/s eta 0:00:03\n",
      "   ----- ---------------------------------- 0.2/1.4 MB 461.0 kB/s eta 0:00:03\n",
      "   ----- ---------------------------------- 0.2/1.4 MB 461.0 kB/s eta 0:00:03\n",
      "   ------- -------------------------------- 0.3/1.4 MB 314.7 kB/s eta 0:00:04\n",
      "   -------- ------------------------------- 0.3/1.4 MB 371.0 kB/s eta 0:00:04\n",
      "   -------- ------------------------------- 0.3/1.4 MB 371.0 kB/s eta 0:00:04\n",
      "   ---------- ----------------------------- 0.4/1.4 MB 395.6 kB/s eta 0:00:03\n",
      "   ---------- ----------------------------- 0.4/1.4 MB 395.6 kB/s eta 0:00:03\n",
      "   ----------- ---------------------------- 0.4/1.4 MB 419.8 kB/s eta 0:00:03\n",
      "   ----------- ---------------------------- 0.4/1.4 MB 419.8 kB/s eta 0:00:03\n",
      "   ------------- -------------------------- 0.5/1.4 MB 434.0 kB/s eta 0:00:03\n",
      "   -------------- ------------------------- 0.5/1.4 MB 451.8 kB/s eta 0:00:03\n",
      "   -------------- ------------------------- 0.5/1.4 MB 451.8 kB/s eta 0:00:03\n",
      "   --------------- ------------------------ 0.6/1.4 MB 450.6 kB/s eta 0:00:02\n",
      "   --------------- ------------------------ 0.6/1.4 MB 450.6 kB/s eta 0:00:02\n",
      "   ------------------ --------------------- 0.7/1.4 MB 480.0 kB/s eta 0:00:02\n",
      "   ------------------ --------------------- 0.7/1.4 MB 478.5 kB/s eta 0:00:02\n",
      "   ------------------- -------------------- 0.7/1.4 MB 482.5 kB/s eta 0:00:02\n",
      "   ------------------- -------------------- 0.7/1.4 MB 474.0 kB/s eta 0:00:02\n",
      "   -------------------- ------------------- 0.7/1.4 MB 474.9 kB/s eta 0:00:02\n",
      "   -------------------- ------------------- 0.8/1.4 MB 478.6 kB/s eta 0:00:02\n",
      "   --------------------- ------------------ 0.8/1.4 MB 477.3 kB/s eta 0:00:02\n",
      "   ---------------------- ----------------- 0.8/1.4 MB 477.7 kB/s eta 0:00:02\n",
      "   ---------------------- ----------------- 0.8/1.4 MB 470.6 kB/s eta 0:00:02\n",
      "   ----------------------- ---------------- 0.8/1.4 MB 474.0 kB/s eta 0:00:02\n",
      "   ------------------------ --------------- 0.9/1.4 MB 474.7 kB/s eta 0:00:02\n",
      "   ------------------------ --------------- 0.9/1.4 MB 477.6 kB/s eta 0:00:02\n",
      "   ------------------------ --------------- 0.9/1.4 MB 475.1 kB/s eta 0:00:02\n",
      "   ------------------------- -------------- 0.9/1.4 MB 481.1 kB/s eta 0:00:02\n",
      "   -------------------------- ------------- 1.0/1.4 MB 478.5 kB/s eta 0:00:02\n",
      "   --------------------------- ------------ 1.0/1.4 MB 479.0 kB/s eta 0:00:01\n",
      "   --------------------------- ------------ 1.0/1.4 MB 479.2 kB/s eta 0:00:01\n",
      "   ---------------------------- ----------- 1.0/1.4 MB 481.9 kB/s eta 0:00:01\n",
      "   ---------------------------- ----------- 1.0/1.4 MB 476.2 kB/s eta 0:00:01\n",
      "   ----------------------------- ---------- 1.1/1.4 MB 479.9 kB/s eta 0:00:01\n",
      "   ------------------------------ --------- 1.1/1.4 MB 482.4 kB/s eta 0:00:01\n",
      "   ------------------------------- -------- 1.1/1.4 MB 482.8 kB/s eta 0:00:01\n",
      "   ------------------------------- -------- 1.1/1.4 MB 484.9 kB/s eta 0:00:01\n",
      "   -------------------------------- ------- 1.2/1.4 MB 482.0 kB/s eta 0:00:01\n",
      "   --------------------------------- ------ 1.2/1.4 MB 485.2 kB/s eta 0:00:01\n",
      "   --------------------------------- ------ 1.2/1.4 MB 484.3 kB/s eta 0:00:01\n",
      "   ---------------------------------- ----- 1.3/1.4 MB 487.6 kB/s eta 0:00:01\n",
      "   ----------------------------------- ---- 1.3/1.4 MB 489.5 kB/s eta 0:00:01\n",
      "   ----------------------------------- ---- 1.3/1.4 MB 484.7 kB/s eta 0:00:01\n",
      "   ------------------------------------ --- 1.3/1.4 MB 484.9 kB/s eta 0:00:01\n",
      "   ------------------------------------- -- 1.3/1.4 MB 486.9 kB/s eta 0:00:01\n",
      "   ------------------------------------- -- 1.4/1.4 MB 486.9 kB/s eta 0:00:01\n",
      "   -------------------------------------- - 1.4/1.4 MB 488.8 kB/s eta 0:00:01\n",
      "   -------------------------------------- - 1.4/1.4 MB 487.1 kB/s eta 0:00:01\n",
      "   ---------------------------------------  1.4/1.4 MB 488.1 kB/s eta 0:00:01\n",
      "   ---------------------------------------- 1.4/1.4 MB 487.4 kB/s eta 0:00:00\n",
      "Installing collected packages: mlxtend\n",
      "Successfully installed mlxtend-0.23.1\n",
      "Note: you may need to restart the kernel to use updated packages.\n"
     ]
    }
   ],
   "source": [
    "pip install mlxtend"
   ]
  },
  {
   "cell_type": "code",
   "execution_count": 24,
   "metadata": {
    "id": "r9H7h4fc6Rua"
   },
   "outputs": [],
   "source": [
    "from mlxtend.plotting import plot_decision_regions"
   ]
  },
  {
   "cell_type": "code",
   "execution_count": 25,
   "metadata": {
    "colab": {
     "base_uri": "https://localhost:8080/",
     "height": 447
    },
    "id": "GV21xyCI67iH",
    "outputId": "280c7bbf-16e0-45d0-d5f5-8e68900a8558"
   },
   "outputs": [
    {
     "data": {
      "text/plain": [
       "<Axes: >"
      ]
     },
     "execution_count": 25,
     "metadata": {},
     "output_type": "execute_result"
    },
    {
     "data": {
      "image/png": "[encoded data removed]",
      "text/plain": [
       "<Figure size 640x480 with 1 Axes>"
      ]
     },
     "metadata": {},
     "output_type": "display_data"
    }
   ],
   "source": [
    "plot_decision_regions(x_train,y_train.values,clf=clf,legend=2)"
   ]
  },
  {
   "cell_type": "code",
   "execution_count": 26,
   "metadata": {
    "id": "yLwPZgFQ7l1O"
   },
   "outputs": [],
   "source": [
    "import pickle"
   ]
  },
  {
   "cell_type": "code",
   "execution_count": 27,
   "metadata": {
    "id": "yIgSqhcK7oy-"
   },
   "outputs": [],
   "source": [
    "pickle.dump(clf,open('model.pkl','wb'))"
   ]
  }
 ],
 "metadata": {
  "colab": {
   "provenance": []
  },
  "kernelspec": {
   "display_name": "Python 3 (ipykernel)",
   "language": "python",
   "name": "python3"
  },
  "language_info": {
   "codemirror_mode": {
    "name": "ipython",
    "version": 3
   },
   "file_extension": ".py",
   "mimetype": "text/x-python",
   "name": "python",
   "nbconvert_exporter": "python",
   "pygments_lexer": "ipython3",
   "version": "3.11.5"
  }
 },
 "nbformat": 4,
 "nbformat_minor": 1
}
