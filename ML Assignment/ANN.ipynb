{
 "cells": [
  {
   "cell_type": "code",
   "execution_count": 1,
   "metadata": {
    "_cell_guid": "b1076dfc-b9ad-4769-8c92-a6c4dae69d19",
    "_uuid": "8f2839f25d086af736a60e9eeb907d3b93b6e0e5",
    "execution": {
     "iopub.execute_input": "2024-06-10T07:43:24.300386Z",
     "iopub.status.busy": "2024-06-10T07:43:24.299853Z",
     "iopub.status.idle": "2024-06-10T07:43:24.331821Z",
     "shell.execute_reply": "2024-06-10T07:43:24.330376Z",
     "shell.execute_reply.started": "2024-06-10T07:43:24.300346Z"
    }
   },
   "outputs": [],
   "source": [
    "import numpy as np \n",
    "import pandas as pd \n"
   ]
  },
  {
   "cell_type": "code",
   "execution_count": 2,
   "metadata": {
    "execution": {
     "iopub.execute_input": "2024-06-10T07:43:28.850380Z",
     "iopub.status.busy": "2024-06-10T07:43:28.849207Z",
     "iopub.status.idle": "2024-06-10T07:43:28.887249Z",
     "shell.execute_reply": "2024-06-10T07:43:28.885963Z",
     "shell.execute_reply.started": "2024-06-10T07:43:28.850340Z"
    }
   },
   "outputs": [],
   "source": [
    "df = pd.read_csv('Churn_Modelling.csv')\n",
    "#df"
   ]
  },
  {
   "cell_type": "code",
   "execution_count": 3,
   "metadata": {
    "execution": {
     "iopub.execute_input": "2024-06-10T07:43:32.098713Z",
     "iopub.status.busy": "2024-06-10T07:43:32.098282Z",
     "iopub.status.idle": "2024-06-10T07:43:32.120229Z",
     "shell.execute_reply": "2024-06-10T07:43:32.118684Z",
     "shell.execute_reply.started": "2024-06-10T07:43:32.098679Z"
    }
   },
   "outputs": [
    {
     "data": {
      "text/html": [
       "<div>\n",
       "<style scoped>\n",
       "    .dataframe tbody tr th:only-of-type {\n",
       "        vertical-align: middle;\n",
       "    }\n",
       "\n",
       "    .dataframe tbody tr th {\n",
       "        vertical-align: top;\n",
       "    }\n",
       "\n",
       "    .dataframe thead th {\n",
       "        text-align: right;\n",
       "    }\n",
       "</style>\n",
       "<table border=\"1\" class=\"dataframe\">\n",
       "  <thead>\n",
       "    <tr style=\"text-align: right;\">\n",
       "      <th></th>\n",
       "      <th>RowNumber</th>\n",
       "      <th>CustomerId</th>\n",
       "      <th>Surname</th>\n",
       "      <th>CreditScore</th>\n",
       "      <th>Geography</th>\n",
       "      <th>Gender</th>\n",
       "      <th>Age</th>\n",
       "      <th>Tenure</th>\n",
       "      <th>Balance</th>\n",
       "      <th>NumOfProducts</th>\n",
       "      <th>HasCrCard</th>\n",
       "      <th>IsActiveMember</th>\n",
       "      <th>EstimatedSalary</th>\n",
       "      <th>Exited</th>\n",
       "    </tr>\n",
       "  </thead>\n",
       "  <tbody>\n",
       "    <tr>\n",
       "      <th>0</th>\n",
       "      <td>1</td>\n",
       "      <td>15634602</td>\n",
       "      <td>Hargrave</td>\n",
       "      <td>619</td>\n",
       "      <td>France</td>\n",
       "      <td>Female</td>\n",
       "      <td>42</td>\n",
       "      <td>2</td>\n",
       "      <td>0.00</td>\n",
       "      <td>1</td>\n",
       "      <td>1</td>\n",
       "      <td>1</td>\n",
       "      <td>101348.88</td>\n",
       "      <td>1</td>\n",
       "    </tr>\n",
       "    <tr>\n",
       "      <th>1</th>\n",
       "      <td>2</td>\n",
       "      <td>15647311</td>\n",
       "      <td>Hill</td>\n",
       "      <td>608</td>\n",
       "      <td>Spain</td>\n",
       "      <td>Female</td>\n",
       "      <td>41</td>\n",
       "      <td>1</td>\n",
       "      <td>83807.86</td>\n",
       "      <td>1</td>\n",
       "      <td>0</td>\n",
       "      <td>1</td>\n",
       "      <td>112542.58</td>\n",
       "      <td>0</td>\n",
       "    </tr>\n",
       "    <tr>\n",
       "      <th>2</th>\n",
       "      <td>3</td>\n",
       "      <td>15619304</td>\n",
       "      <td>Onio</td>\n",
       "      <td>502</td>\n",
       "      <td>France</td>\n",
       "      <td>Female</td>\n",
       "      <td>42</td>\n",
       "      <td>8</td>\n",
       "      <td>159660.80</td>\n",
       "      <td>3</td>\n",
       "      <td>1</td>\n",
       "      <td>0</td>\n",
       "      <td>113931.57</td>\n",
       "      <td>1</td>\n",
       "    </tr>\n",
       "    <tr>\n",
       "      <th>3</th>\n",
       "      <td>4</td>\n",
       "      <td>15701354</td>\n",
       "      <td>Boni</td>\n",
       "      <td>699</td>\n",
       "      <td>France</td>\n",
       "      <td>Female</td>\n",
       "      <td>39</td>\n",
       "      <td>1</td>\n",
       "      <td>0.00</td>\n",
       "      <td>2</td>\n",
       "      <td>0</td>\n",
       "      <td>0</td>\n",
       "      <td>93826.63</td>\n",
       "      <td>0</td>\n",
       "    </tr>\n",
       "    <tr>\n",
       "      <th>4</th>\n",
       "      <td>5</td>\n",
       "      <td>15737888</td>\n",
       "      <td>Mitchell</td>\n",
       "      <td>850</td>\n",
       "      <td>Spain</td>\n",
       "      <td>Female</td>\n",
       "      <td>43</td>\n",
       "      <td>2</td>\n",
       "      <td>125510.82</td>\n",
       "      <td>1</td>\n",
       "      <td>1</td>\n",
       "      <td>1</td>\n",
       "      <td>79084.10</td>\n",
       "      <td>0</td>\n",
       "    </tr>\n",
       "  </tbody>\n",
       "</table>\n",
       "</div>"
      ],
      "text/plain": [
       "   RowNumber  CustomerId   Surname  CreditScore Geography  Gender  Age  \\\n",
       "0          1    15634602  Hargrave          619    France  Female   42   \n",
       "1          2    15647311      Hill          608     Spain  Female   41   \n",
       "2          3    15619304      Onio          502    France  Female   42   \n",
       "3          4    15701354      Boni          699    France  Female   39   \n",
       "4          5    15737888  Mitchell          850     Spain  Female   43   \n",
       "\n",
       "   Tenure    Balance  NumOfProducts  HasCrCard  IsActiveMember  \\\n",
       "0       2       0.00              1          1               1   \n",
       "1       1   83807.86              1          0               1   \n",
       "2       8  159660.80              3          1               0   \n",
       "3       1       0.00              2          0               0   \n",
       "4       2  125510.82              1          1               1   \n",
       "\n",
       "   EstimatedSalary  Exited  \n",
       "0        101348.88       1  \n",
       "1        112542.58       0  \n",
       "2        113931.57       1  \n",
       "3         93826.63       0  \n",
       "4         79084.10       0  "
      ]
     },
     "execution_count": 3,
     "metadata": {},
     "output_type": "execute_result"
    }
   ],
   "source": [
    "df.head()"
   ]
  },
  {
   "cell_type": "code",
   "execution_count": 4,
   "metadata": {
    "execution": {
     "iopub.execute_input": "2024-06-10T07:43:32.803298Z",
     "iopub.status.busy": "2024-06-10T07:43:32.802853Z",
     "iopub.status.idle": "2024-06-10T07:43:32.809833Z",
     "shell.execute_reply": "2024-06-10T07:43:32.808451Z",
     "shell.execute_reply.started": "2024-06-10T07:43:32.803263Z"
    }
   },
   "outputs": [
    {
     "name": "stdout",
     "output_type": "stream",
     "text": [
      "(10000, 14)\n"
     ]
    }
   ],
   "source": [
    "print(df.shape)"
   ]
  },
  {
   "cell_type": "code",
   "execution_count": 5,
   "metadata": {
    "execution": {
     "iopub.execute_input": "2024-06-10T07:43:33.424022Z",
     "iopub.status.busy": "2024-06-10T07:43:33.423581Z",
     "iopub.status.idle": "2024-06-10T07:43:33.443507Z",
     "shell.execute_reply": "2024-06-10T07:43:33.442067Z",
     "shell.execute_reply.started": "2024-06-10T07:43:33.423961Z"
    }
   },
   "outputs": [
    {
     "name": "stdout",
     "output_type": "stream",
     "text": [
      "<class 'pandas.core.frame.DataFrame'>\n",
      "RangeIndex: 10000 entries, 0 to 9999\n",
      "Data columns (total 14 columns):\n",
      " #   Column           Non-Null Count  Dtype  \n",
      "---  ------           --------------  -----  \n",
      " 0   RowNumber        10000 non-null  int64  \n",
      " 1   CustomerId       10000 non-null  int64  \n",
      " 2   Surname          10000 non-null  object \n",
      " 3   CreditScore      10000 non-null  int64  \n",
      " 4   Geography        10000 non-null  object \n",
      " 5   Gender           10000 non-null  object \n",
      " 6   Age              10000 non-null  int64  \n",
      " 7   Tenure           10000 non-null  int64  \n",
      " 8   Balance          10000 non-null  float64\n",
      " 9   NumOfProducts    10000 non-null  int64  \n",
      " 10  HasCrCard        10000 non-null  int64  \n",
      " 11  IsActiveMember   10000 non-null  int64  \n",
      " 12  EstimatedSalary  10000 non-null  float64\n",
      " 13  Exited           10000 non-null  int64  \n",
      "dtypes: float64(2), int64(9), object(3)\n",
      "memory usage: 1.1+ MB\n"
     ]
    }
   ],
   "source": [
    "df.info()"
   ]
  },
  {
   "cell_type": "code",
   "execution_count": 6,
   "metadata": {
    "execution": {
     "iopub.execute_input": "2024-06-10T07:43:40.683760Z",
     "iopub.status.busy": "2024-06-10T07:43:40.683297Z",
     "iopub.status.idle": "2024-06-10T07:43:40.704127Z",
     "shell.execute_reply": "2024-06-10T07:43:40.702688Z",
     "shell.execute_reply.started": "2024-06-10T07:43:40.683721Z"
    }
   },
   "outputs": [
    {
     "data": {
      "text/plain": [
       "0"
      ]
     },
     "execution_count": 6,
     "metadata": {},
     "output_type": "execute_result"
    }
   ],
   "source": [
    "df.duplicated().sum()"
   ]
  },
  {
   "cell_type": "code",
   "execution_count": 7,
   "metadata": {
    "execution": {
     "iopub.execute_input": "2024-06-10T07:43:43.679255Z",
     "iopub.status.busy": "2024-06-10T07:43:43.678806Z",
     "iopub.status.idle": "2024-06-10T07:43:43.691623Z",
     "shell.execute_reply": "2024-06-10T07:43:43.690254Z",
     "shell.execute_reply.started": "2024-06-10T07:43:43.679222Z"
    }
   },
   "outputs": [
    {
     "data": {
      "text/plain": [
       "Exited\n",
       "0    7963\n",
       "1    2037\n",
       "Name: count, dtype: int64"
      ]
     },
     "execution_count": 7,
     "metadata": {},
     "output_type": "execute_result"
    }
   ],
   "source": [
    "df['Exited'].value_counts()"
   ]
  },
  {
   "cell_type": "code",
   "execution_count": 8,
   "metadata": {
    "execution": {
     "iopub.execute_input": "2024-06-10T07:43:46.033964Z",
     "iopub.status.busy": "2024-06-10T07:43:46.033390Z",
     "iopub.status.idle": "2024-06-10T07:43:46.048031Z",
     "shell.execute_reply": "2024-06-10T07:43:46.046337Z",
     "shell.execute_reply.started": "2024-06-10T07:43:46.033922Z"
    }
   },
   "outputs": [
    {
     "data": {
      "text/plain": [
       "Geography\n",
       "France     5014\n",
       "Germany    2509\n",
       "Spain      2477\n",
       "Name: count, dtype: int64"
      ]
     },
     "execution_count": 8,
     "metadata": {},
     "output_type": "execute_result"
    }
   ],
   "source": [
    "df['Geography'].value_counts()"
   ]
  },
  {
   "cell_type": "code",
   "execution_count": 9,
   "metadata": {
    "execution": {
     "iopub.execute_input": "2024-06-10T07:43:50.067155Z",
     "iopub.status.busy": "2024-06-10T07:43:50.066679Z",
     "iopub.status.idle": "2024-06-10T07:43:50.079574Z",
     "shell.execute_reply": "2024-06-10T07:43:50.078056Z",
     "shell.execute_reply.started": "2024-06-10T07:43:50.067119Z"
    }
   },
   "outputs": [
    {
     "data": {
      "text/plain": [
       "Gender\n",
       "Male      5457\n",
       "Female    4543\n",
       "Name: count, dtype: int64"
      ]
     },
     "execution_count": 9,
     "metadata": {},
     "output_type": "execute_result"
    }
   ],
   "source": [
    "df['Gender'].value_counts()"
   ]
  },
  {
   "cell_type": "code",
   "execution_count": 10,
   "metadata": {
    "execution": {
     "iopub.execute_input": "2024-06-10T07:44:02.085577Z",
     "iopub.status.busy": "2024-06-10T07:44:02.085152Z",
     "iopub.status.idle": "2024-06-10T07:44:02.094285Z",
     "shell.execute_reply": "2024-06-10T07:44:02.092616Z",
     "shell.execute_reply.started": "2024-06-10T07:44:02.085542Z"
    }
   },
   "outputs": [],
   "source": [
    "df.drop(columns=['RowNumber','CustomerId','Surname'],inplace=True)"
   ]
  },
  {
   "cell_type": "code",
   "execution_count": 11,
   "metadata": {
    "execution": {
     "iopub.execute_input": "2024-06-10T07:44:06.552293Z",
     "iopub.status.busy": "2024-06-10T07:44:06.551866Z",
     "iopub.status.idle": "2024-06-10T07:44:06.570889Z",
     "shell.execute_reply": "2024-06-10T07:44:06.569292Z",
     "shell.execute_reply.started": "2024-06-10T07:44:06.552262Z"
    }
   },
   "outputs": [
    {
     "data": {
      "text/html": [
       "<div>\n",
       "<style scoped>\n",
       "    .dataframe tbody tr th:only-of-type {\n",
       "        vertical-align: middle;\n",
       "    }\n",
       "\n",
       "    .dataframe tbody tr th {\n",
       "        vertical-align: top;\n",
       "    }\n",
       "\n",
       "    .dataframe thead th {\n",
       "        text-align: right;\n",
       "    }\n",
       "</style>\n",
       "<table border=\"1\" class=\"dataframe\">\n",
       "  <thead>\n",
       "    <tr style=\"text-align: right;\">\n",
       "      <th></th>\n",
       "      <th>CreditScore</th>\n",
       "      <th>Geography</th>\n",
       "      <th>Gender</th>\n",
       "      <th>Age</th>\n",
       "      <th>Tenure</th>\n",
       "      <th>Balance</th>\n",
       "      <th>NumOfProducts</th>\n",
       "      <th>HasCrCard</th>\n",
       "      <th>IsActiveMember</th>\n",
       "      <th>EstimatedSalary</th>\n",
       "      <th>Exited</th>\n",
       "    </tr>\n",
       "  </thead>\n",
       "  <tbody>\n",
       "    <tr>\n",
       "      <th>0</th>\n",
       "      <td>619</td>\n",
       "      <td>France</td>\n",
       "      <td>Female</td>\n",
       "      <td>42</td>\n",
       "      <td>2</td>\n",
       "      <td>0.00</td>\n",
       "      <td>1</td>\n",
       "      <td>1</td>\n",
       "      <td>1</td>\n",
       "      <td>101348.88</td>\n",
       "      <td>1</td>\n",
       "    </tr>\n",
       "    <tr>\n",
       "      <th>1</th>\n",
       "      <td>608</td>\n",
       "      <td>Spain</td>\n",
       "      <td>Female</td>\n",
       "      <td>41</td>\n",
       "      <td>1</td>\n",
       "      <td>83807.86</td>\n",
       "      <td>1</td>\n",
       "      <td>0</td>\n",
       "      <td>1</td>\n",
       "      <td>112542.58</td>\n",
       "      <td>0</td>\n",
       "    </tr>\n",
       "    <tr>\n",
       "      <th>2</th>\n",
       "      <td>502</td>\n",
       "      <td>France</td>\n",
       "      <td>Female</td>\n",
       "      <td>42</td>\n",
       "      <td>8</td>\n",
       "      <td>159660.80</td>\n",
       "      <td>3</td>\n",
       "      <td>1</td>\n",
       "      <td>0</td>\n",
       "      <td>113931.57</td>\n",
       "      <td>1</td>\n",
       "    </tr>\n",
       "    <tr>\n",
       "      <th>3</th>\n",
       "      <td>699</td>\n",
       "      <td>France</td>\n",
       "      <td>Female</td>\n",
       "      <td>39</td>\n",
       "      <td>1</td>\n",
       "      <td>0.00</td>\n",
       "      <td>2</td>\n",
       "      <td>0</td>\n",
       "      <td>0</td>\n",
       "      <td>93826.63</td>\n",
       "      <td>0</td>\n",
       "    </tr>\n",
       "    <tr>\n",
       "      <th>4</th>\n",
       "      <td>850</td>\n",
       "      <td>Spain</td>\n",
       "      <td>Female</td>\n",
       "      <td>43</td>\n",
       "      <td>2</td>\n",
       "      <td>125510.82</td>\n",
       "      <td>1</td>\n",
       "      <td>1</td>\n",
       "      <td>1</td>\n",
       "      <td>79084.10</td>\n",
       "      <td>0</td>\n",
       "    </tr>\n",
       "  </tbody>\n",
       "</table>\n",
       "</div>"
      ],
      "text/plain": [
       "   CreditScore Geography  Gender  Age  Tenure    Balance  NumOfProducts  \\\n",
       "0          619    France  Female   42       2       0.00              1   \n",
       "1          608     Spain  Female   41       1   83807.86              1   \n",
       "2          502    France  Female   42       8  159660.80              3   \n",
       "3          699    France  Female   39       1       0.00              2   \n",
       "4          850     Spain  Female   43       2  125510.82              1   \n",
       "\n",
       "   HasCrCard  IsActiveMember  EstimatedSalary  Exited  \n",
       "0          1               1        101348.88       1  \n",
       "1          0               1        112542.58       0  \n",
       "2          1               0        113931.57       1  \n",
       "3          0               0         93826.63       0  \n",
       "4          1               1         79084.10       0  "
      ]
     },
     "execution_count": 11,
     "metadata": {},
     "output_type": "execute_result"
    }
   ],
   "source": [
    "df.head()"
   ]
  },
  {
   "cell_type": "code",
   "execution_count": 12,
   "metadata": {
    "execution": {
     "iopub.execute_input": "2024-06-10T07:44:09.595004Z",
     "iopub.status.busy": "2024-06-10T07:44:09.594476Z",
     "iopub.status.idle": "2024-06-10T07:44:09.611213Z",
     "shell.execute_reply": "2024-06-10T07:44:09.609688Z",
     "shell.execute_reply.started": "2024-06-10T07:44:09.594949Z"
    }
   },
   "outputs": [],
   "source": [
    "df = pd.get_dummies(df,columns=['Geography','Gender'],drop_first=True)"
   ]
  },
  {
   "cell_type": "code",
   "execution_count": 13,
   "metadata": {
    "execution": {
     "iopub.execute_input": "2024-06-10T07:44:11.930911Z",
     "iopub.status.busy": "2024-06-10T07:44:11.930401Z",
     "iopub.status.idle": "2024-06-10T07:44:11.958100Z",
     "shell.execute_reply": "2024-06-10T07:44:11.956461Z",
     "shell.execute_reply.started": "2024-06-10T07:44:11.930873Z"
    }
   },
   "outputs": [
    {
     "data": {
      "text/html": [
       "<div>\n",
       "<style scoped>\n",
       "    .dataframe tbody tr th:only-of-type {\n",
       "        vertical-align: middle;\n",
       "    }\n",
       "\n",
       "    .dataframe tbody tr th {\n",
       "        vertical-align: top;\n",
       "    }\n",
       "\n",
       "    .dataframe thead th {\n",
       "        text-align: right;\n",
       "    }\n",
       "</style>\n",
       "<table border=\"1\" class=\"dataframe\">\n",
       "  <thead>\n",
       "    <tr style=\"text-align: right;\">\n",
       "      <th></th>\n",
       "      <th>CreditScore</th>\n",
       "      <th>Age</th>\n",
       "      <th>Tenure</th>\n",
       "      <th>Balance</th>\n",
       "      <th>NumOfProducts</th>\n",
       "      <th>HasCrCard</th>\n",
       "      <th>IsActiveMember</th>\n",
       "      <th>EstimatedSalary</th>\n",
       "      <th>Exited</th>\n",
       "      <th>Geography_Germany</th>\n",
       "      <th>Geography_Spain</th>\n",
       "      <th>Gender_Male</th>\n",
       "    </tr>\n",
       "  </thead>\n",
       "  <tbody>\n",
       "    <tr>\n",
       "      <th>0</th>\n",
       "      <td>619</td>\n",
       "      <td>42</td>\n",
       "      <td>2</td>\n",
       "      <td>0.00</td>\n",
       "      <td>1</td>\n",
       "      <td>1</td>\n",
       "      <td>1</td>\n",
       "      <td>101348.88</td>\n",
       "      <td>1</td>\n",
       "      <td>False</td>\n",
       "      <td>False</td>\n",
       "      <td>False</td>\n",
       "    </tr>\n",
       "    <tr>\n",
       "      <th>1</th>\n",
       "      <td>608</td>\n",
       "      <td>41</td>\n",
       "      <td>1</td>\n",
       "      <td>83807.86</td>\n",
       "      <td>1</td>\n",
       "      <td>0</td>\n",
       "      <td>1</td>\n",
       "      <td>112542.58</td>\n",
       "      <td>0</td>\n",
       "      <td>False</td>\n",
       "      <td>True</td>\n",
       "      <td>False</td>\n",
       "    </tr>\n",
       "    <tr>\n",
       "      <th>2</th>\n",
       "      <td>502</td>\n",
       "      <td>42</td>\n",
       "      <td>8</td>\n",
       "      <td>159660.80</td>\n",
       "      <td>3</td>\n",
       "      <td>1</td>\n",
       "      <td>0</td>\n",
       "      <td>113931.57</td>\n",
       "      <td>1</td>\n",
       "      <td>False</td>\n",
       "      <td>False</td>\n",
       "      <td>False</td>\n",
       "    </tr>\n",
       "    <tr>\n",
       "      <th>3</th>\n",
       "      <td>699</td>\n",
       "      <td>39</td>\n",
       "      <td>1</td>\n",
       "      <td>0.00</td>\n",
       "      <td>2</td>\n",
       "      <td>0</td>\n",
       "      <td>0</td>\n",
       "      <td>93826.63</td>\n",
       "      <td>0</td>\n",
       "      <td>False</td>\n",
       "      <td>False</td>\n",
       "      <td>False</td>\n",
       "    </tr>\n",
       "    <tr>\n",
       "      <th>4</th>\n",
       "      <td>850</td>\n",
       "      <td>43</td>\n",
       "      <td>2</td>\n",
       "      <td>125510.82</td>\n",
       "      <td>1</td>\n",
       "      <td>1</td>\n",
       "      <td>1</td>\n",
       "      <td>79084.10</td>\n",
       "      <td>0</td>\n",
       "      <td>False</td>\n",
       "      <td>True</td>\n",
       "      <td>False</td>\n",
       "    </tr>\n",
       "    <tr>\n",
       "      <th>...</th>\n",
       "      <td>...</td>\n",
       "      <td>...</td>\n",
       "      <td>...</td>\n",
       "      <td>...</td>\n",
       "      <td>...</td>\n",
       "      <td>...</td>\n",
       "      <td>...</td>\n",
       "      <td>...</td>\n",
       "      <td>...</td>\n",
       "      <td>...</td>\n",
       "      <td>...</td>\n",
       "      <td>...</td>\n",
       "    </tr>\n",
       "    <tr>\n",
       "      <th>9995</th>\n",
       "      <td>771</td>\n",
       "      <td>39</td>\n",
       "      <td>5</td>\n",
       "      <td>0.00</td>\n",
       "      <td>2</td>\n",
       "      <td>1</td>\n",
       "      <td>0</td>\n",
       "      <td>96270.64</td>\n",
       "      <td>0</td>\n",
       "      <td>False</td>\n",
       "      <td>False</td>\n",
       "      <td>True</td>\n",
       "    </tr>\n",
       "    <tr>\n",
       "      <th>9996</th>\n",
       "      <td>516</td>\n",
       "      <td>35</td>\n",
       "      <td>10</td>\n",
       "      <td>57369.61</td>\n",
       "      <td>1</td>\n",
       "      <td>1</td>\n",
       "      <td>1</td>\n",
       "      <td>101699.77</td>\n",
       "      <td>0</td>\n",
       "      <td>False</td>\n",
       "      <td>False</td>\n",
       "      <td>True</td>\n",
       "    </tr>\n",
       "    <tr>\n",
       "      <th>9997</th>\n",
       "      <td>709</td>\n",
       "      <td>36</td>\n",
       "      <td>7</td>\n",
       "      <td>0.00</td>\n",
       "      <td>1</td>\n",
       "      <td>0</td>\n",
       "      <td>1</td>\n",
       "      <td>42085.58</td>\n",
       "      <td>1</td>\n",
       "      <td>False</td>\n",
       "      <td>False</td>\n",
       "      <td>False</td>\n",
       "    </tr>\n",
       "    <tr>\n",
       "      <th>9998</th>\n",
       "      <td>772</td>\n",
       "      <td>42</td>\n",
       "      <td>3</td>\n",
       "      <td>75075.31</td>\n",
       "      <td>2</td>\n",
       "      <td>1</td>\n",
       "      <td>0</td>\n",
       "      <td>92888.52</td>\n",
       "      <td>1</td>\n",
       "      <td>True</td>\n",
       "      <td>False</td>\n",
       "      <td>True</td>\n",
       "    </tr>\n",
       "    <tr>\n",
       "      <th>9999</th>\n",
       "      <td>792</td>\n",
       "      <td>28</td>\n",
       "      <td>4</td>\n",
       "      <td>130142.79</td>\n",
       "      <td>1</td>\n",
       "      <td>1</td>\n",
       "      <td>0</td>\n",
       "      <td>38190.78</td>\n",
       "      <td>0</td>\n",
       "      <td>False</td>\n",
       "      <td>False</td>\n",
       "      <td>False</td>\n",
       "    </tr>\n",
       "  </tbody>\n",
       "</table>\n",
       "<p>10000 rows × 12 columns</p>\n",
       "</div>"
      ],
      "text/plain": [
       "      CreditScore  Age  Tenure    Balance  NumOfProducts  HasCrCard  \\\n",
       "0             619   42       2       0.00              1          1   \n",
       "1             608   41       1   83807.86              1          0   \n",
       "2             502   42       8  159660.80              3          1   \n",
       "3             699   39       1       0.00              2          0   \n",
       "4             850   43       2  125510.82              1          1   \n",
       "...           ...  ...     ...        ...            ...        ...   \n",
       "9995          771   39       5       0.00              2          1   \n",
       "9996          516   35      10   57369.61              1          1   \n",
       "9997          709   36       7       0.00              1          0   \n",
       "9998          772   42       3   75075.31              2          1   \n",
       "9999          792   28       4  130142.79              1          1   \n",
       "\n",
       "      IsActiveMember  EstimatedSalary  Exited  Geography_Germany  \\\n",
       "0                  1        101348.88       1              False   \n",
       "1                  1        112542.58       0              False   \n",
       "2                  0        113931.57       1              False   \n",
       "3                  0         93826.63       0              False   \n",
       "4                  1         79084.10       0              False   \n",
       "...              ...              ...     ...                ...   \n",
       "9995               0         96270.64       0              False   \n",
       "9996               1        101699.77       0              False   \n",
       "9997               1         42085.58       1              False   \n",
       "9998               0         92888.52       1               True   \n",
       "9999               0         38190.78       0              False   \n",
       "\n",
       "      Geography_Spain  Gender_Male  \n",
       "0               False        False  \n",
       "1                True        False  \n",
       "2               False        False  \n",
       "3               False        False  \n",
       "4                True        False  \n",
       "...               ...          ...  \n",
       "9995            False         True  \n",
       "9996            False         True  \n",
       "9997            False        False  \n",
       "9998            False         True  \n",
       "9999            False        False  \n",
       "\n",
       "[10000 rows x 12 columns]"
      ]
     },
     "execution_count": 13,
     "metadata": {},
     "output_type": "execute_result"
    }
   ],
   "source": [
    "df"
   ]
  },
  {
   "cell_type": "code",
   "execution_count": 14,
   "metadata": {
    "execution": {
     "iopub.execute_input": "2024-06-10T07:44:19.626044Z",
     "iopub.status.busy": "2024-06-10T07:44:19.625620Z",
     "iopub.status.idle": "2024-06-10T07:44:19.639611Z",
     "shell.execute_reply": "2024-06-10T07:44:19.638262Z",
     "shell.execute_reply.started": "2024-06-10T07:44:19.626005Z"
    }
   },
   "outputs": [],
   "source": [
    "X = df.drop(columns=['Exited'])\n",
    "y=df['Exited']\n",
    "from sklearn.model_selection import train_test_split\n",
    "X_train,X_test,y_train,y_test = train_test_split(X,y,test_size=0.2,random_state=1)"
   ]
  },
  {
   "cell_type": "code",
   "execution_count": 15,
   "metadata": {
    "execution": {
     "iopub.execute_input": "2024-06-10T07:44:22.947237Z",
     "iopub.status.busy": "2024-06-10T07:44:22.946629Z",
     "iopub.status.idle": "2024-06-10T07:44:22.955867Z",
     "shell.execute_reply": "2024-06-10T07:44:22.954421Z",
     "shell.execute_reply.started": "2024-06-10T07:44:22.947196Z"
    }
   },
   "outputs": [
    {
     "data": {
      "text/plain": [
       "(8000, 11)"
      ]
     },
     "execution_count": 15,
     "metadata": {},
     "output_type": "execute_result"
    }
   ],
   "source": [
    "X_train.shape\n"
   ]
  },
  {
   "cell_type": "code",
   "execution_count": 16,
   "metadata": {
    "execution": {
     "iopub.execute_input": "2024-06-10T07:44:25.527358Z",
     "iopub.status.busy": "2024-06-10T07:44:25.526938Z",
     "iopub.status.idle": "2024-06-10T07:44:25.552634Z",
     "shell.execute_reply": "2024-06-10T07:44:25.551313Z",
     "shell.execute_reply.started": "2024-06-10T07:44:25.527328Z"
    }
   },
   "outputs": [],
   "source": [
    "from sklearn.preprocessing import StandardScaler\n",
    "scal = StandardScaler()\n",
    "X_train_scale=scal.fit_transform(X_train)\n",
    "X_test_scale=scal.fit_transform(X_test)"
   ]
  },
  {
   "cell_type": "code",
   "execution_count": 17,
   "metadata": {
    "execution": {
     "iopub.execute_input": "2024-06-10T07:44:38.973548Z",
     "iopub.status.busy": "2024-06-10T07:44:38.973034Z",
     "iopub.status.idle": "2024-06-10T07:44:38.983821Z",
     "shell.execute_reply": "2024-06-10T07:44:38.982227Z",
     "shell.execute_reply.started": "2024-06-10T07:44:38.973509Z"
    }
   },
   "outputs": [
    {
     "data": {
      "text/plain": [
       "array([[-0.23082038, -0.94449979, -0.70174202, ...,  1.71490137,\n",
       "        -0.57273139,  0.91509065],\n",
       "       [-0.25150912, -0.94449979, -0.35520275, ..., -0.58312392,\n",
       "        -0.57273139, -1.09278791],\n",
       "       [-0.3963303 ,  0.77498705,  0.33787579, ...,  1.71490137,\n",
       "        -0.57273139, -1.09278791],\n",
       "       ...,\n",
       "       [ 0.22433188,  0.58393295,  1.3774936 , ..., -0.58312392,\n",
       "        -0.57273139, -1.09278791],\n",
       "       [ 0.13123255,  0.01077067,  1.03095433, ..., -0.58312392,\n",
       "        -0.57273139, -1.09278791],\n",
       "       [ 1.1656695 ,  0.29735181,  0.33787579, ...,  1.71490137,\n",
       "        -0.57273139,  0.91509065]])"
      ]
     },
     "execution_count": 17,
     "metadata": {},
     "output_type": "execute_result"
    }
   ],
   "source": [
    "X_train_scale"
   ]
  },
  {
   "cell_type": "code",
   "execution_count": 18,
   "metadata": {
    "execution": {
     "iopub.execute_input": "2024-06-10T07:44:41.762033Z",
     "iopub.status.busy": "2024-06-10T07:44:41.761585Z",
     "iopub.status.idle": "2024-06-10T07:44:41.769128Z",
     "shell.execute_reply": "2024-06-10T07:44:41.767063Z",
     "shell.execute_reply.started": "2024-06-10T07:44:41.761997Z"
    }
   },
   "outputs": [],
   "source": [
    "import tensorflow\n",
    "from tensorflow import keras\n",
    "from tensorflow.keras import Sequential\n",
    "from tensorflow.keras.layers import Dense"
   ]
  },
  {
   "cell_type": "code",
   "execution_count": 19,
   "metadata": {
    "execution": {
     "iopub.execute_input": "2024-06-10T07:44:44.978580Z",
     "iopub.status.busy": "2024-06-10T07:44:44.977786Z",
     "iopub.status.idle": "2024-06-10T07:44:45.045288Z",
     "shell.execute_reply": "2024-06-10T07:44:45.043405Z",
     "shell.execute_reply.started": "2024-06-10T07:44:44.978476Z"
    }
   },
   "outputs": [
    {
     "name": "stderr",
     "output_type": "stream",
     "text": [
      "C:\\Users\\HP\\anaconda3\\Lib\\site-packages\\keras\\src\\layers\\core\\dense.py:87: UserWarning: Do not pass an `input_shape`/`input_dim` argument to a layer. When using Sequential models, prefer using an `Input(shape)` object as the first layer in the model instead.\n",
      "  super().__init__(activity_regularizer=activity_regularizer, **kwargs)\n"
     ]
    }
   ],
   "source": [
    "model = Sequential()\n",
    "model.add(Dense(11,activation='relu',input_dim=11))\n",
    "model.add(Dense(11,activation='relu'))\n",
    "model.add(Dense(1,activation='sigmoid'))"
   ]
  },
  {
   "cell_type": "code",
   "execution_count": 20,
   "metadata": {
    "execution": {
     "iopub.execute_input": "2024-06-10T07:44:47.942293Z",
     "iopub.status.busy": "2024-06-10T07:44:47.941623Z",
     "iopub.status.idle": "2024-06-10T07:44:47.970113Z",
     "shell.execute_reply": "2024-06-10T07:44:47.968842Z",
     "shell.execute_reply.started": "2024-06-10T07:44:47.942228Z"
    }
   },
   "outputs": [
    {
     "data": {
      "text/html": [
       "<pre style=\"white-space:pre;overflow-x:auto;line-height:normal;font-family:Menlo,'DejaVu Sans Mono',consolas,'Courier New',monospace\"><span style=\"font-weight: bold\">Model: \"sequential\"</span>\n",
       "</pre>\n"
      ],
      "text/plain": [
       "\u001b[1mModel: \"sequential\"\u001b[0m\n"
      ]
     },
     "metadata": {},
     "output_type": "display_data"
    },
    {
     "data": {
      "text/html": [
       "<pre style=\"white-space:pre;overflow-x:auto;line-height:normal;font-family:Menlo,'DejaVu Sans Mono',consolas,'Courier New',monospace\">┏━━━━━━━━━━━━━━━━━━━━━━━━━━━━━━━━━━━━━━┳━━━━━━━━━━━━━━━━━━━━━━━━━━━━━┳━━━━━━━━━━━━━━━━━┓\n",
       "┃<span style=\"font-weight: bold\"> Layer (type)                         </span>┃<span style=\"font-weight: bold\"> Output Shape                </span>┃<span style=\"font-weight: bold\">         Param # </span>┃\n",
       "┡━━━━━━━━━━━━━━━━━━━━━━━━━━━━━━━━━━━━━━╇━━━━━━━━━━━━━━━━━━━━━━━━━━━━━╇━━━━━━━━━━━━━━━━━┩\n",
       "│ dense (<span style=\"color: #0087ff; text-decoration-color: #0087ff\">Dense</span>)                        │ (<span style=\"color: #00d7ff; text-decoration-color: #00d7ff\">None</span>, <span style=\"color: #00af00; text-decoration-color: #00af00\">11</span>)                  │             <span style=\"color: #00af00; text-decoration-color: #00af00\">132</span> │\n",
       "├──────────────────────────────────────┼─────────────────────────────┼─────────────────┤\n",
       "│ dense_1 (<span style=\"color: #0087ff; text-decoration-color: #0087ff\">Dense</span>)                      │ (<span style=\"color: #00d7ff; text-decoration-color: #00d7ff\">None</span>, <span style=\"color: #00af00; text-decoration-color: #00af00\">11</span>)                  │             <span style=\"color: #00af00; text-decoration-color: #00af00\">132</span> │\n",
       "├──────────────────────────────────────┼─────────────────────────────┼─────────────────┤\n",
       "│ dense_2 (<span style=\"color: #0087ff; text-decoration-color: #0087ff\">Dense</span>)                      │ (<span style=\"color: #00d7ff; text-decoration-color: #00d7ff\">None</span>, <span style=\"color: #00af00; text-decoration-color: #00af00\">1</span>)                   │              <span style=\"color: #00af00; text-decoration-color: #00af00\">12</span> │\n",
       "└──────────────────────────────────────┴─────────────────────────────┴─────────────────┘\n",
       "</pre>\n"
      ],
      "text/plain": [
       "┏━━━━━━━━━━━━━━━━━━━━━━━━━━━━━━━━━━━━━━┳━━━━━━━━━━━━━━━━━━━━━━━━━━━━━┳━━━━━━━━━━━━━━━━━┓\n",
       "┃\u001b[1m \u001b[0m\u001b[1mLayer (type)                        \u001b[0m\u001b[1m \u001b[0m┃\u001b[1m \u001b[0m\u001b[1mOutput Shape               \u001b[0m\u001b[1m \u001b[0m┃\u001b[1m \u001b[0m\u001b[1m        Param #\u001b[0m\u001b[1m \u001b[0m┃\n",
       "┡━━━━━━━━━━━━━━━━━━━━━━━━━━━━━━━━━━━━━━╇━━━━━━━━━━━━━━━━━━━━━━━━━━━━━╇━━━━━━━━━━━━━━━━━┩\n",
       "│ dense (\u001b[38;5;33mDense\u001b[0m)                        │ (\u001b[38;5;45mNone\u001b[0m, \u001b[38;5;34m11\u001b[0m)                  │             \u001b[38;5;34m132\u001b[0m │\n",
       "├──────────────────────────────────────┼─────────────────────────────┼─────────────────┤\n",
       "│ dense_1 (\u001b[38;5;33mDense\u001b[0m)                      │ (\u001b[38;5;45mNone\u001b[0m, \u001b[38;5;34m11\u001b[0m)                  │             \u001b[38;5;34m132\u001b[0m │\n",
       "├──────────────────────────────────────┼─────────────────────────────┼─────────────────┤\n",
       "│ dense_2 (\u001b[38;5;33mDense\u001b[0m)                      │ (\u001b[38;5;45mNone\u001b[0m, \u001b[38;5;34m1\u001b[0m)                   │              \u001b[38;5;34m12\u001b[0m │\n",
       "└──────────────────────────────────────┴─────────────────────────────┴─────────────────┘\n"
      ]
     },
     "metadata": {},
     "output_type": "display_data"
    },
    {
     "data": {
      "text/html": [
       "<pre style=\"white-space:pre;overflow-x:auto;line-height:normal;font-family:Menlo,'DejaVu Sans Mono',consolas,'Courier New',monospace\"><span style=\"font-weight: bold\"> Total params: </span><span style=\"color: #00af00; text-decoration-color: #00af00\">276</span> (1.08 KB)\n",
       "</pre>\n"
      ],
      "text/plain": [
       "\u001b[1m Total params: \u001b[0m\u001b[38;5;34m276\u001b[0m (1.08 KB)\n"
      ]
     },
     "metadata": {},
     "output_type": "display_data"
    },
    {
     "data": {
      "text/html": [
       "<pre style=\"white-space:pre;overflow-x:auto;line-height:normal;font-family:Menlo,'DejaVu Sans Mono',consolas,'Courier New',monospace\"><span style=\"font-weight: bold\"> Trainable params: </span><span style=\"color: #00af00; text-decoration-color: #00af00\">276</span> (1.08 KB)\n",
       "</pre>\n"
      ],
      "text/plain": [
       "\u001b[1m Trainable params: \u001b[0m\u001b[38;5;34m276\u001b[0m (1.08 KB)\n"
      ]
     },
     "metadata": {},
     "output_type": "display_data"
    },
    {
     "data": {
      "text/html": [
       "<pre style=\"white-space:pre;overflow-x:auto;line-height:normal;font-family:Menlo,'DejaVu Sans Mono',consolas,'Courier New',monospace\"><span style=\"font-weight: bold\"> Non-trainable params: </span><span style=\"color: #00af00; text-decoration-color: #00af00\">0</span> (0.00 B)\n",
       "</pre>\n"
      ],
      "text/plain": [
       "\u001b[1m Non-trainable params: \u001b[0m\u001b[38;5;34m0\u001b[0m (0.00 B)\n"
      ]
     },
     "metadata": {},
     "output_type": "display_data"
    }
   ],
   "source": [
    "model.summary()"
   ]
  },
  {
   "cell_type": "code",
   "execution_count": 21,
   "metadata": {
    "execution": {
     "iopub.execute_input": "2024-06-10T07:44:50.810028Z",
     "iopub.status.busy": "2024-06-10T07:44:50.808464Z",
     "iopub.status.idle": "2024-06-10T07:44:50.822903Z",
     "shell.execute_reply": "2024-06-10T07:44:50.821244Z",
     "shell.execute_reply.started": "2024-06-10T07:44:50.809862Z"
    }
   },
   "outputs": [],
   "source": [
    "model.compile(loss='binary_crossentropy',optimizer='Adam',metrics=['accuracy'])"
   ]
  },
  {
   "cell_type": "code",
   "execution_count": 22,
   "metadata": {
    "execution": {
     "iopub.execute_input": "2024-06-10T07:44:57.588306Z",
     "iopub.status.busy": "2024-06-10T07:44:57.587249Z",
     "iopub.status.idle": "2024-06-10T07:45:41.468220Z",
     "shell.execute_reply": "2024-06-10T07:45:41.467258Z",
     "shell.execute_reply.started": "2024-06-10T07:44:57.588263Z"
    }
   },
   "outputs": [
    {
     "name": "stdout",
     "output_type": "stream",
     "text": [
      "Epoch 1/100\n",
      "\u001b[1m200/200\u001b[0m \u001b[32m━━━━━━━━━━━━━━━━━━━━\u001b[0m\u001b[37m\u001b[0m \u001b[1m2s\u001b[0m 2ms/step - accuracy: 0.7577 - loss: 0.5552 - val_accuracy: 0.7975 - val_loss: 0.4607\n",
      "Epoch 2/100\n",
      "\u001b[1m200/200\u001b[0m \u001b[32m━━━━━━━━━━━━━━━━━━━━\u001b[0m\u001b[37m\u001b[0m \u001b[1m0s\u001b[0m 1ms/step - accuracy: 0.7975 - loss: 0.4537 - val_accuracy: 0.8175 - val_loss: 0.4259\n",
      "Epoch 3/100\n",
      "\u001b[1m200/200\u001b[0m \u001b[32m━━━━━━━━━━━━━━━━━━━━\u001b[0m\u001b[37m\u001b[0m \u001b[1m0s\u001b[0m 977us/step - accuracy: 0.8185 - loss: 0.4254 - val_accuracy: 0.8238 - val_loss: 0.4146\n",
      "Epoch 4/100\n",
      "\u001b[1m200/200\u001b[0m \u001b[32m━━━━━━━━━━━━━━━━━━━━\u001b[0m\u001b[37m\u001b[0m \u001b[1m0s\u001b[0m 943us/step - accuracy: 0.8207 - loss: 0.4185 - val_accuracy: 0.8231 - val_loss: 0.4075\n",
      "Epoch 5/100\n",
      "\u001b[1m200/200\u001b[0m \u001b[32m━━━━━━━━━━━━━━━━━━━━\u001b[0m\u001b[37m\u001b[0m \u001b[1m0s\u001b[0m 1ms/step - accuracy: 0.8296 - loss: 0.3960 - val_accuracy: 0.8225 - val_loss: 0.4016\n",
      "Epoch 6/100\n",
      "\u001b[1m200/200\u001b[0m \u001b[32m━━━━━━━━━━━━━━━━━━━━\u001b[0m\u001b[37m\u001b[0m \u001b[1m0s\u001b[0m 999us/step - accuracy: 0.8287 - loss: 0.3975 - val_accuracy: 0.8225 - val_loss: 0.3951\n",
      "Epoch 7/100\n",
      "\u001b[1m200/200\u001b[0m \u001b[32m━━━━━━━━━━━━━━━━━━━━\u001b[0m\u001b[37m\u001b[0m \u001b[1m0s\u001b[0m 933us/step - accuracy: 0.8275 - loss: 0.3942 - val_accuracy: 0.8200 - val_loss: 0.3898\n",
      "Epoch 8/100\n",
      "\u001b[1m200/200\u001b[0m \u001b[32m━━━━━━━━━━━━━━━━━━━━\u001b[0m\u001b[37m\u001b[0m \u001b[1m0s\u001b[0m 992us/step - accuracy: 0.8381 - loss: 0.3775 - val_accuracy: 0.8213 - val_loss: 0.3825\n",
      "Epoch 9/100\n",
      "\u001b[1m200/200\u001b[0m \u001b[32m━━━━━━━━━━━━━━━━━━━━\u001b[0m\u001b[37m\u001b[0m \u001b[1m0s\u001b[0m 1ms/step - accuracy: 0.8412 - loss: 0.3695 - val_accuracy: 0.8356 - val_loss: 0.3767\n",
      "Epoch 10/100\n",
      "\u001b[1m200/200\u001b[0m \u001b[32m━━━━━━━━━━━━━━━━━━━━\u001b[0m\u001b[37m\u001b[0m \u001b[1m0s\u001b[0m 954us/step - accuracy: 0.8343 - loss: 0.3828 - val_accuracy: 0.8388 - val_loss: 0.3677\n",
      "Epoch 11/100\n",
      "\u001b[1m200/200\u001b[0m \u001b[32m━━━━━━━━━━━━━━━━━━━━\u001b[0m\u001b[37m\u001b[0m \u001b[1m0s\u001b[0m 942us/step - accuracy: 0.8513 - loss: 0.3591 - val_accuracy: 0.8381 - val_loss: 0.3620\n",
      "Epoch 12/100\n",
      "\u001b[1m200/200\u001b[0m \u001b[32m━━━━━━━━━━━━━━━━━━━━\u001b[0m\u001b[37m\u001b[0m \u001b[1m0s\u001b[0m 949us/step - accuracy: 0.8608 - loss: 0.3543 - val_accuracy: 0.8506 - val_loss: 0.3568\n",
      "Epoch 13/100\n",
      "\u001b[1m200/200\u001b[0m \u001b[32m━━━━━━━━━━━━━━━━━━━━\u001b[0m\u001b[37m\u001b[0m \u001b[1m0s\u001b[0m 960us/step - accuracy: 0.8602 - loss: 0.3588 - val_accuracy: 0.8475 - val_loss: 0.3540\n",
      "Epoch 14/100\n",
      "\u001b[1m200/200\u001b[0m \u001b[32m━━━━━━━━━━━━━━━━━━━━\u001b[0m\u001b[37m\u001b[0m \u001b[1m0s\u001b[0m 1ms/step - accuracy: 0.8571 - loss: 0.3614 - val_accuracy: 0.8500 - val_loss: 0.3492\n",
      "Epoch 15/100\n",
      "\u001b[1m200/200\u001b[0m \u001b[32m━━━━━━━━━━━━━━━━━━━━\u001b[0m\u001b[37m\u001b[0m \u001b[1m0s\u001b[0m 999us/step - accuracy: 0.8588 - loss: 0.3431 - val_accuracy: 0.8500 - val_loss: 0.3475\n",
      "Epoch 16/100\n",
      "\u001b[1m200/200\u001b[0m \u001b[32m━━━━━━━━━━━━━━━━━━━━\u001b[0m\u001b[37m\u001b[0m \u001b[1m0s\u001b[0m 968us/step - accuracy: 0.8637 - loss: 0.3451 - val_accuracy: 0.8512 - val_loss: 0.3482\n",
      "Epoch 17/100\n",
      "\u001b[1m200/200\u001b[0m \u001b[32m━━━━━━━━━━━━━━━━━━━━\u001b[0m\u001b[37m\u001b[0m \u001b[1m0s\u001b[0m 938us/step - accuracy: 0.8569 - loss: 0.3454 - val_accuracy: 0.8512 - val_loss: 0.3486\n",
      "Epoch 18/100\n",
      "\u001b[1m200/200\u001b[0m \u001b[32m━━━━━━━━━━━━━━━━━━━━\u001b[0m\u001b[37m\u001b[0m \u001b[1m0s\u001b[0m 928us/step - accuracy: 0.8607 - loss: 0.3405 - val_accuracy: 0.8494 - val_loss: 0.3470\n",
      "Epoch 19/100\n",
      "\u001b[1m200/200\u001b[0m \u001b[32m━━━━━━━━━━━━━━━━━━━━\u001b[0m\u001b[37m\u001b[0m \u001b[1m0s\u001b[0m 1ms/step - accuracy: 0.8527 - loss: 0.3510 - val_accuracy: 0.8469 - val_loss: 0.3461\n",
      "Epoch 20/100\n",
      "\u001b[1m200/200\u001b[0m \u001b[32m━━━━━━━━━━━━━━━━━━━━\u001b[0m\u001b[37m\u001b[0m \u001b[1m0s\u001b[0m 1ms/step - accuracy: 0.8632 - loss: 0.3426 - val_accuracy: 0.8462 - val_loss: 0.3495\n",
      "Epoch 21/100\n",
      "\u001b[1m200/200\u001b[0m \u001b[32m━━━━━━━━━━━━━━━━━━━━\u001b[0m\u001b[37m\u001b[0m \u001b[1m0s\u001b[0m 1ms/step - accuracy: 0.8607 - loss: 0.3362 - val_accuracy: 0.8475 - val_loss: 0.3464\n",
      "Epoch 22/100\n",
      "\u001b[1m200/200\u001b[0m \u001b[32m━━━━━━━━━━━━━━━━━━━━\u001b[0m\u001b[37m\u001b[0m \u001b[1m0s\u001b[0m 934us/step - accuracy: 0.8649 - loss: 0.3319 - val_accuracy: 0.8450 - val_loss: 0.3494\n",
      "Epoch 23/100\n",
      "\u001b[1m200/200\u001b[0m \u001b[32m━━━━━━━━━━━━━━━━━━━━\u001b[0m\u001b[37m\u001b[0m \u001b[1m0s\u001b[0m 1ms/step - accuracy: 0.8704 - loss: 0.3298 - val_accuracy: 0.8537 - val_loss: 0.3462\n",
      "Epoch 24/100\n",
      "\u001b[1m200/200\u001b[0m \u001b[32m━━━━━━━━━━━━━━━━━━━━\u001b[0m\u001b[37m\u001b[0m \u001b[1m0s\u001b[0m 1ms/step - accuracy: 0.8678 - loss: 0.3257 - val_accuracy: 0.8456 - val_loss: 0.3476\n",
      "Epoch 25/100\n",
      "\u001b[1m200/200\u001b[0m \u001b[32m━━━━━━━━━━━━━━━━━━━━\u001b[0m\u001b[37m\u001b[0m \u001b[1m0s\u001b[0m 935us/step - accuracy: 0.8565 - loss: 0.3442 - val_accuracy: 0.8550 - val_loss: 0.3445\n",
      "Epoch 26/100\n",
      "\u001b[1m200/200\u001b[0m \u001b[32m━━━━━━━━━━━━━━━━━━━━\u001b[0m\u001b[37m\u001b[0m \u001b[1m0s\u001b[0m 961us/step - accuracy: 0.8631 - loss: 0.3381 - val_accuracy: 0.8500 - val_loss: 0.3470\n",
      "Epoch 27/100\n",
      "\u001b[1m200/200\u001b[0m \u001b[32m━━━━━━━━━━━━━━━━━━━━\u001b[0m\u001b[37m\u001b[0m \u001b[1m0s\u001b[0m 1ms/step - accuracy: 0.8587 - loss: 0.3466 - val_accuracy: 0.8438 - val_loss: 0.3477\n",
      "Epoch 28/100\n",
      "\u001b[1m200/200\u001b[0m \u001b[32m━━━━━━━━━━━━━━━━━━━━\u001b[0m\u001b[37m\u001b[0m \u001b[1m0s\u001b[0m 1ms/step - accuracy: 0.8652 - loss: 0.3305 - val_accuracy: 0.8506 - val_loss: 0.3454\n",
      "Epoch 29/100\n",
      "\u001b[1m200/200\u001b[0m \u001b[32m━━━━━━━━━━━━━━━━━━━━\u001b[0m\u001b[37m\u001b[0m \u001b[1m0s\u001b[0m 1ms/step - accuracy: 0.8579 - loss: 0.3433 - val_accuracy: 0.8537 - val_loss: 0.3444\n",
      "Epoch 30/100\n",
      "\u001b[1m200/200\u001b[0m \u001b[32m━━━━━━━━━━━━━━━━━━━━\u001b[0m\u001b[37m\u001b[0m \u001b[1m0s\u001b[0m 954us/step - accuracy: 0.8568 - loss: 0.3497 - val_accuracy: 0.8475 - val_loss: 0.3479\n",
      "Epoch 31/100\n",
      "\u001b[1m200/200\u001b[0m \u001b[32m━━━━━━━━━━━━━━━━━━━━\u001b[0m\u001b[37m\u001b[0m \u001b[1m0s\u001b[0m 1ms/step - accuracy: 0.8588 - loss: 0.3420 - val_accuracy: 0.8456 - val_loss: 0.3459\n",
      "Epoch 32/100\n",
      "\u001b[1m200/200\u001b[0m \u001b[32m━━━━━━━━━━━━━━━━━━━━\u001b[0m\u001b[37m\u001b[0m \u001b[1m0s\u001b[0m 981us/step - accuracy: 0.8649 - loss: 0.3314 - val_accuracy: 0.8462 - val_loss: 0.3453\n",
      "Epoch 33/100\n",
      "\u001b[1m200/200\u001b[0m \u001b[32m━━━━━━━━━━━━━━━━━━━━\u001b[0m\u001b[37m\u001b[0m \u001b[1m0s\u001b[0m 948us/step - accuracy: 0.8678 - loss: 0.3243 - val_accuracy: 0.8494 - val_loss: 0.3470\n",
      "Epoch 34/100\n",
      "\u001b[1m200/200\u001b[0m \u001b[32m━━━━━━━━━━━━━━━━━━━━\u001b[0m\u001b[37m\u001b[0m \u001b[1m0s\u001b[0m 977us/step - accuracy: 0.8665 - loss: 0.3228 - val_accuracy: 0.8500 - val_loss: 0.3448\n",
      "Epoch 35/100\n",
      "\u001b[1m200/200\u001b[0m \u001b[32m━━━━━━━━━━━━━━━━━━━━\u001b[0m\u001b[37m\u001b[0m \u001b[1m0s\u001b[0m 1ms/step - accuracy: 0.8645 - loss: 0.3319 - val_accuracy: 0.8537 - val_loss: 0.3456\n",
      "Epoch 36/100\n",
      "\u001b[1m200/200\u001b[0m \u001b[32m━━━━━━━━━━━━━━━━━━━━\u001b[0m\u001b[37m\u001b[0m \u001b[1m0s\u001b[0m 1ms/step - accuracy: 0.8652 - loss: 0.3397 - val_accuracy: 0.8506 - val_loss: 0.3463\n",
      "Epoch 37/100\n",
      "\u001b[1m200/200\u001b[0m \u001b[32m━━━━━━━━━━━━━━━━━━━━\u001b[0m\u001b[37m\u001b[0m \u001b[1m0s\u001b[0m 1ms/step - accuracy: 0.8671 - loss: 0.3243 - val_accuracy: 0.8481 - val_loss: 0.3460\n",
      "Epoch 38/100\n",
      "\u001b[1m200/200\u001b[0m \u001b[32m━━━━━━━━━━━━━━━━━━━━\u001b[0m\u001b[37m\u001b[0m \u001b[1m0s\u001b[0m 998us/step - accuracy: 0.8677 - loss: 0.3281 - val_accuracy: 0.8519 - val_loss: 0.3446\n",
      "Epoch 39/100\n",
      "\u001b[1m200/200\u001b[0m \u001b[32m━━━━━━━━━━━━━━━━━━━━\u001b[0m\u001b[37m\u001b[0m \u001b[1m0s\u001b[0m 1ms/step - accuracy: 0.8686 - loss: 0.3221 - val_accuracy: 0.8450 - val_loss: 0.3467\n",
      "Epoch 40/100\n",
      "\u001b[1m200/200\u001b[0m \u001b[32m━━━━━━━━━━━━━━━━━━━━\u001b[0m\u001b[37m\u001b[0m \u001b[1m0s\u001b[0m 994us/step - accuracy: 0.8624 - loss: 0.3375 - val_accuracy: 0.8525 - val_loss: 0.3466\n",
      "Epoch 41/100\n",
      "\u001b[1m200/200\u001b[0m \u001b[32m━━━━━━━━━━━━━━━━━━━━\u001b[0m\u001b[37m\u001b[0m \u001b[1m0s\u001b[0m 1ms/step - accuracy: 0.8669 - loss: 0.3226 - val_accuracy: 0.8481 - val_loss: 0.3455\n",
      "Epoch 42/100\n",
      "\u001b[1m200/200\u001b[0m \u001b[32m━━━━━━━━━━━━━━━━━━━━\u001b[0m\u001b[37m\u001b[0m \u001b[1m0s\u001b[0m 1ms/step - accuracy: 0.8646 - loss: 0.3300 - val_accuracy: 0.8537 - val_loss: 0.3460\n",
      "Epoch 43/100\n",
      "\u001b[1m200/200\u001b[0m \u001b[32m━━━━━━━━━━━━━━━━━━━━\u001b[0m\u001b[37m\u001b[0m \u001b[1m0s\u001b[0m 982us/step - accuracy: 0.8608 - loss: 0.3327 - val_accuracy: 0.8462 - val_loss: 0.3460\n",
      "Epoch 44/100\n",
      "\u001b[1m200/200\u001b[0m \u001b[32m━━━━━━━━━━━━━━━━━━━━\u001b[0m\u001b[37m\u001b[0m \u001b[1m0s\u001b[0m 1ms/step - accuracy: 0.8724 - loss: 0.3251 - val_accuracy: 0.8506 - val_loss: 0.3447\n",
      "Epoch 45/100\n",
      "\u001b[1m200/200\u001b[0m \u001b[32m━━━━━━━━━━━━━━━━━━━━\u001b[0m\u001b[37m\u001b[0m \u001b[1m0s\u001b[0m 974us/step - accuracy: 0.8622 - loss: 0.3332 - val_accuracy: 0.8500 - val_loss: 0.3450\n",
      "Epoch 46/100\n",
      "\u001b[1m200/200\u001b[0m \u001b[32m━━━━━━━━━━━━━━━━━━━━\u001b[0m\u001b[37m\u001b[0m \u001b[1m0s\u001b[0m 995us/step - accuracy: 0.8651 - loss: 0.3270 - val_accuracy: 0.8450 - val_loss: 0.3496\n",
      "Epoch 47/100\n",
      "\u001b[1m200/200\u001b[0m \u001b[32m━━━━━━━━━━━━━━━━━━━━\u001b[0m\u001b[37m\u001b[0m \u001b[1m0s\u001b[0m 1ms/step - accuracy: 0.8627 - loss: 0.3321 - val_accuracy: 0.8537 - val_loss: 0.3456\n",
      "Epoch 48/100\n",
      "\u001b[1m200/200\u001b[0m \u001b[32m━━━━━━━━━━━━━━━━━━━━\u001b[0m\u001b[37m\u001b[0m \u001b[1m0s\u001b[0m 957us/step - accuracy: 0.8600 - loss: 0.3260 - val_accuracy: 0.8475 - val_loss: 0.3465\n",
      "Epoch 49/100\n",
      "\u001b[1m200/200\u001b[0m \u001b[32m━━━━━━━━━━━━━━━━━━━━\u001b[0m\u001b[37m\u001b[0m \u001b[1m0s\u001b[0m 1ms/step - accuracy: 0.8624 - loss: 0.3354 - val_accuracy: 0.8456 - val_loss: 0.3482\n",
      "Epoch 50/100\n"
     ]
    },
    {
     "name": "stdout",
     "output_type": "stream",
     "text": [
      "\u001b[1m200/200\u001b[0m \u001b[32m━━━━━━━━━━━━━━━━━━━━\u001b[0m\u001b[37m\u001b[0m \u001b[1m0s\u001b[0m 1ms/step - accuracy: 0.8699 - loss: 0.3251 - val_accuracy: 0.8487 - val_loss: 0.3474\n",
      "Epoch 51/100\n",
      "\u001b[1m200/200\u001b[0m \u001b[32m━━━━━━━━━━━━━━━━━━━━\u001b[0m\u001b[37m\u001b[0m \u001b[1m0s\u001b[0m 1ms/step - accuracy: 0.8641 - loss: 0.3269 - val_accuracy: 0.8556 - val_loss: 0.3443\n",
      "Epoch 52/100\n",
      "\u001b[1m200/200\u001b[0m \u001b[32m━━━━━━━━━━━━━━━━━━━━\u001b[0m\u001b[37m\u001b[0m \u001b[1m0s\u001b[0m 983us/step - accuracy: 0.8559 - loss: 0.3434 - val_accuracy: 0.8469 - val_loss: 0.3464\n",
      "Epoch 53/100\n",
      "\u001b[1m200/200\u001b[0m \u001b[32m━━━━━━━━━━━━━━━━━━━━\u001b[0m\u001b[37m\u001b[0m \u001b[1m0s\u001b[0m 950us/step - accuracy: 0.8671 - loss: 0.3179 - val_accuracy: 0.8494 - val_loss: 0.3474\n",
      "Epoch 54/100\n",
      "\u001b[1m200/200\u001b[0m \u001b[32m━━━━━━━━━━━━━━━━━━━━\u001b[0m\u001b[37m\u001b[0m \u001b[1m0s\u001b[0m 981us/step - accuracy: 0.8621 - loss: 0.3260 - val_accuracy: 0.8525 - val_loss: 0.3464\n",
      "Epoch 55/100\n",
      "\u001b[1m200/200\u001b[0m \u001b[32m━━━━━━━━━━━━━━━━━━━━\u001b[0m\u001b[37m\u001b[0m \u001b[1m0s\u001b[0m 1ms/step - accuracy: 0.8723 - loss: 0.3120 - val_accuracy: 0.8512 - val_loss: 0.3454\n",
      "Epoch 56/100\n",
      "\u001b[1m200/200\u001b[0m \u001b[32m━━━━━━━━━━━━━━━━━━━━\u001b[0m\u001b[37m\u001b[0m \u001b[1m0s\u001b[0m 1ms/step - accuracy: 0.8675 - loss: 0.3178 - val_accuracy: 0.8481 - val_loss: 0.3460\n",
      "Epoch 57/100\n",
      "\u001b[1m200/200\u001b[0m \u001b[32m━━━━━━━━━━━━━━━━━━━━\u001b[0m\u001b[37m\u001b[0m \u001b[1m0s\u001b[0m 1ms/step - accuracy: 0.8611 - loss: 0.3299 - val_accuracy: 0.8500 - val_loss: 0.3446\n",
      "Epoch 58/100\n",
      "\u001b[1m200/200\u001b[0m \u001b[32m━━━━━━━━━━━━━━━━━━━━\u001b[0m\u001b[37m\u001b[0m \u001b[1m0s\u001b[0m 1ms/step - accuracy: 0.8740 - loss: 0.3128 - val_accuracy: 0.8487 - val_loss: 0.3460\n",
      "Epoch 59/100\n",
      "\u001b[1m200/200\u001b[0m \u001b[32m━━━━━━━━━━━━━━━━━━━━\u001b[0m\u001b[37m\u001b[0m \u001b[1m0s\u001b[0m 944us/step - accuracy: 0.8597 - loss: 0.3411 - val_accuracy: 0.8500 - val_loss: 0.3445\n",
      "Epoch 60/100\n",
      "\u001b[1m200/200\u001b[0m \u001b[32m━━━━━━━━━━━━━━━━━━━━\u001b[0m\u001b[37m\u001b[0m \u001b[1m0s\u001b[0m 1ms/step - accuracy: 0.8728 - loss: 0.3179 - val_accuracy: 0.8562 - val_loss: 0.3446\n",
      "Epoch 61/100\n",
      "\u001b[1m200/200\u001b[0m \u001b[32m━━━━━━━━━━━━━━━━━━━━\u001b[0m\u001b[37m\u001b[0m \u001b[1m0s\u001b[0m 1ms/step - accuracy: 0.8560 - loss: 0.3387 - val_accuracy: 0.8494 - val_loss: 0.3451\n",
      "Epoch 62/100\n",
      "\u001b[1m200/200\u001b[0m \u001b[32m━━━━━━━━━━━━━━━━━━━━\u001b[0m\u001b[37m\u001b[0m \u001b[1m0s\u001b[0m 1ms/step - accuracy: 0.8677 - loss: 0.3271 - val_accuracy: 0.8544 - val_loss: 0.3458\n",
      "Epoch 63/100\n",
      "\u001b[1m200/200\u001b[0m \u001b[32m━━━━━━━━━━━━━━━━━━━━\u001b[0m\u001b[37m\u001b[0m \u001b[1m0s\u001b[0m 1ms/step - accuracy: 0.8582 - loss: 0.3303 - val_accuracy: 0.8462 - val_loss: 0.3460\n",
      "Epoch 64/100\n",
      "\u001b[1m200/200\u001b[0m \u001b[32m━━━━━━━━━━━━━━━━━━━━\u001b[0m\u001b[37m\u001b[0m \u001b[1m0s\u001b[0m 987us/step - accuracy: 0.8644 - loss: 0.3210 - val_accuracy: 0.8519 - val_loss: 0.3459\n",
      "Epoch 65/100\n",
      "\u001b[1m200/200\u001b[0m \u001b[32m━━━━━━━━━━━━━━━━━━━━\u001b[0m\u001b[37m\u001b[0m \u001b[1m0s\u001b[0m 1ms/step - accuracy: 0.8650 - loss: 0.3261 - val_accuracy: 0.8512 - val_loss: 0.3451\n",
      "Epoch 66/100\n",
      "\u001b[1m200/200\u001b[0m \u001b[32m━━━━━━━━━━━━━━━━━━━━\u001b[0m\u001b[37m\u001b[0m \u001b[1m0s\u001b[0m 1ms/step - accuracy: 0.8689 - loss: 0.3182 - val_accuracy: 0.8531 - val_loss: 0.3446\n",
      "Epoch 67/100\n",
      "\u001b[1m200/200\u001b[0m \u001b[32m━━━━━━━━━━━━━━━━━━━━\u001b[0m\u001b[37m\u001b[0m \u001b[1m0s\u001b[0m 988us/step - accuracy: 0.8632 - loss: 0.3236 - val_accuracy: 0.8525 - val_loss: 0.3447\n",
      "Epoch 68/100\n",
      "\u001b[1m200/200\u001b[0m \u001b[32m━━━━━━━━━━━━━━━━━━━━\u001b[0m\u001b[37m\u001b[0m \u001b[1m0s\u001b[0m 1ms/step - accuracy: 0.8630 - loss: 0.3273 - val_accuracy: 0.8519 - val_loss: 0.3454\n",
      "Epoch 69/100\n",
      "\u001b[1m200/200\u001b[0m \u001b[32m━━━━━━━━━━━━━━━━━━━━\u001b[0m\u001b[37m\u001b[0m \u001b[1m0s\u001b[0m 1ms/step - accuracy: 0.8660 - loss: 0.3218 - val_accuracy: 0.8556 - val_loss: 0.3451\n",
      "Epoch 70/100\n",
      "\u001b[1m200/200\u001b[0m \u001b[32m━━━━━━━━━━━━━━━━━━━━\u001b[0m\u001b[37m\u001b[0m \u001b[1m0s\u001b[0m 1ms/step - accuracy: 0.8615 - loss: 0.3225 - val_accuracy: 0.8550 - val_loss: 0.3452\n",
      "Epoch 71/100\n",
      "\u001b[1m200/200\u001b[0m \u001b[32m━━━━━━━━━━━━━━━━━━━━\u001b[0m\u001b[37m\u001b[0m \u001b[1m0s\u001b[0m 1ms/step - accuracy: 0.8643 - loss: 0.3238 - val_accuracy: 0.8544 - val_loss: 0.3455\n",
      "Epoch 72/100\n",
      "\u001b[1m200/200\u001b[0m \u001b[32m━━━━━━━━━━━━━━━━━━━━\u001b[0m\u001b[37m\u001b[0m \u001b[1m0s\u001b[0m 1ms/step - accuracy: 0.8630 - loss: 0.3145 - val_accuracy: 0.8569 - val_loss: 0.3456\n",
      "Epoch 73/100\n",
      "\u001b[1m200/200\u001b[0m \u001b[32m━━━━━━━━━━━━━━━━━━━━\u001b[0m\u001b[37m\u001b[0m \u001b[1m0s\u001b[0m 985us/step - accuracy: 0.8703 - loss: 0.3193 - val_accuracy: 0.8500 - val_loss: 0.3475\n",
      "Epoch 74/100\n",
      "\u001b[1m200/200\u001b[0m \u001b[32m━━━━━━━━━━━━━━━━━━━━\u001b[0m\u001b[37m\u001b[0m \u001b[1m0s\u001b[0m 969us/step - accuracy: 0.8651 - loss: 0.3286 - val_accuracy: 0.8500 - val_loss: 0.3469\n",
      "Epoch 75/100\n",
      "\u001b[1m200/200\u001b[0m \u001b[32m━━━━━━━━━━━━━━━━━━━━\u001b[0m\u001b[37m\u001b[0m \u001b[1m0s\u001b[0m 2ms/step - accuracy: 0.8739 - loss: 0.3102 - val_accuracy: 0.8525 - val_loss: 0.3456\n",
      "Epoch 76/100\n",
      "\u001b[1m200/200\u001b[0m \u001b[32m━━━━━━━━━━━━━━━━━━━━\u001b[0m\u001b[37m\u001b[0m \u001b[1m0s\u001b[0m 1ms/step - accuracy: 0.8628 - loss: 0.3300 - val_accuracy: 0.8550 - val_loss: 0.3457\n",
      "Epoch 77/100\n",
      "\u001b[1m200/200\u001b[0m \u001b[32m━━━━━━━━━━━━━━━━━━━━\u001b[0m\u001b[37m\u001b[0m \u001b[1m0s\u001b[0m 1ms/step - accuracy: 0.8706 - loss: 0.3152 - val_accuracy: 0.8506 - val_loss: 0.3462\n",
      "Epoch 78/100\n",
      "\u001b[1m200/200\u001b[0m \u001b[32m━━━━━━━━━━━━━━━━━━━━\u001b[0m\u001b[37m\u001b[0m \u001b[1m0s\u001b[0m 1ms/step - accuracy: 0.8672 - loss: 0.3174 - val_accuracy: 0.8562 - val_loss: 0.3461\n",
      "Epoch 79/100\n",
      "\u001b[1m200/200\u001b[0m \u001b[32m━━━━━━━━━━━━━━━━━━━━\u001b[0m\u001b[37m\u001b[0m \u001b[1m0s\u001b[0m 1ms/step - accuracy: 0.8649 - loss: 0.3256 - val_accuracy: 0.8531 - val_loss: 0.3463\n",
      "Epoch 80/100\n",
      "\u001b[1m200/200\u001b[0m \u001b[32m━━━━━━━━━━━━━━━━━━━━\u001b[0m\u001b[37m\u001b[0m \u001b[1m1s\u001b[0m 2ms/step - accuracy: 0.8654 - loss: 0.3287 - val_accuracy: 0.8512 - val_loss: 0.3463\n",
      "Epoch 81/100\n",
      "\u001b[1m200/200\u001b[0m \u001b[32m━━━━━━━━━━━━━━━━━━━━\u001b[0m\u001b[37m\u001b[0m \u001b[1m1s\u001b[0m 3ms/step - accuracy: 0.8678 - loss: 0.3195 - val_accuracy: 0.8500 - val_loss: 0.3470\n",
      "Epoch 82/100\n",
      "\u001b[1m200/200\u001b[0m \u001b[32m━━━━━━━━━━━━━━━━━━━━\u001b[0m\u001b[37m\u001b[0m \u001b[1m0s\u001b[0m 2ms/step - accuracy: 0.8692 - loss: 0.3156 - val_accuracy: 0.8550 - val_loss: 0.3471\n",
      "Epoch 83/100\n",
      "\u001b[1m200/200\u001b[0m \u001b[32m━━━━━━━━━━━━━━━━━━━━\u001b[0m\u001b[37m\u001b[0m \u001b[1m0s\u001b[0m 2ms/step - accuracy: 0.8525 - loss: 0.3425 - val_accuracy: 0.8506 - val_loss: 0.3472\n",
      "Epoch 84/100\n",
      "\u001b[1m200/200\u001b[0m \u001b[32m━━━━━━━━━━━━━━━━━━━━\u001b[0m\u001b[37m\u001b[0m \u001b[1m0s\u001b[0m 2ms/step - accuracy: 0.8662 - loss: 0.3212 - val_accuracy: 0.8481 - val_loss: 0.3481\n",
      "Epoch 85/100\n",
      "\u001b[1m200/200\u001b[0m \u001b[32m━━━━━━━━━━━━━━━━━━━━\u001b[0m\u001b[37m\u001b[0m \u001b[1m0s\u001b[0m 2ms/step - accuracy: 0.8621 - loss: 0.3183 - val_accuracy: 0.8525 - val_loss: 0.3488\n",
      "Epoch 86/100\n",
      "\u001b[1m200/200\u001b[0m \u001b[32m━━━━━━━━━━━━━━━━━━━━\u001b[0m\u001b[37m\u001b[0m \u001b[1m0s\u001b[0m 1ms/step - accuracy: 0.8618 - loss: 0.3301 - val_accuracy: 0.8494 - val_loss: 0.3487\n",
      "Epoch 87/100\n",
      "\u001b[1m200/200\u001b[0m \u001b[32m━━━━━━━━━━━━━━━━━━━━\u001b[0m\u001b[37m\u001b[0m \u001b[1m0s\u001b[0m 2ms/step - accuracy: 0.8696 - loss: 0.3187 - val_accuracy: 0.8550 - val_loss: 0.3462\n",
      "Epoch 88/100\n",
      "\u001b[1m200/200\u001b[0m \u001b[32m━━━━━━━━━━━━━━━━━━━━\u001b[0m\u001b[37m\u001b[0m \u001b[1m0s\u001b[0m 2ms/step - accuracy: 0.8728 - loss: 0.3164 - val_accuracy: 0.8544 - val_loss: 0.3478\n",
      "Epoch 89/100\n",
      "\u001b[1m200/200\u001b[0m \u001b[32m━━━━━━━━━━━━━━━━━━━━\u001b[0m\u001b[37m\u001b[0m \u001b[1m0s\u001b[0m 2ms/step - accuracy: 0.8646 - loss: 0.3160 - val_accuracy: 0.8525 - val_loss: 0.3470\n",
      "Epoch 90/100\n",
      "\u001b[1m200/200\u001b[0m \u001b[32m━━━━━━━━━━━━━━━━━━━━\u001b[0m\u001b[37m\u001b[0m \u001b[1m0s\u001b[0m 2ms/step - accuracy: 0.8658 - loss: 0.3236 - val_accuracy: 0.8494 - val_loss: 0.3488\n",
      "Epoch 91/100\n",
      "\u001b[1m200/200\u001b[0m \u001b[32m━━━━━━━━━━━━━━━━━━━━\u001b[0m\u001b[37m\u001b[0m \u001b[1m0s\u001b[0m 2ms/step - accuracy: 0.8627 - loss: 0.3203 - val_accuracy: 0.8487 - val_loss: 0.3524\n",
      "Epoch 92/100\n",
      "\u001b[1m200/200\u001b[0m \u001b[32m━━━━━━━━━━━━━━━━━━━━\u001b[0m\u001b[37m\u001b[0m \u001b[1m0s\u001b[0m 2ms/step - accuracy: 0.8655 - loss: 0.3247 - val_accuracy: 0.8506 - val_loss: 0.3482\n",
      "Epoch 93/100\n",
      "\u001b[1m200/200\u001b[0m \u001b[32m━━━━━━━━━━━━━━━━━━━━\u001b[0m\u001b[37m\u001b[0m \u001b[1m0s\u001b[0m 1ms/step - accuracy: 0.8703 - loss: 0.3127 - val_accuracy: 0.8506 - val_loss: 0.3475\n",
      "Epoch 94/100\n",
      "\u001b[1m200/200\u001b[0m \u001b[32m━━━━━━━━━━━━━━━━━━━━\u001b[0m\u001b[37m\u001b[0m \u001b[1m0s\u001b[0m 2ms/step - accuracy: 0.8661 - loss: 0.3220 - val_accuracy: 0.8519 - val_loss: 0.3479\n",
      "Epoch 95/100\n",
      "\u001b[1m200/200\u001b[0m \u001b[32m━━━━━━━━━━━━━━━━━━━━\u001b[0m\u001b[37m\u001b[0m \u001b[1m0s\u001b[0m 2ms/step - accuracy: 0.8646 - loss: 0.3249 - val_accuracy: 0.8562 - val_loss: 0.3469\n",
      "Epoch 96/100\n",
      "\u001b[1m200/200\u001b[0m \u001b[32m━━━━━━━━━━━━━━━━━━━━\u001b[0m\u001b[37m\u001b[0m \u001b[1m0s\u001b[0m 2ms/step - accuracy: 0.8711 - loss: 0.3175 - val_accuracy: 0.8550 - val_loss: 0.3472\n",
      "Epoch 97/100\n",
      "\u001b[1m200/200\u001b[0m \u001b[32m━━━━━━━━━━━━━━━━━━━━\u001b[0m\u001b[37m\u001b[0m \u001b[1m0s\u001b[0m 1ms/step - accuracy: 0.8680 - loss: 0.3206 - val_accuracy: 0.8494 - val_loss: 0.3515\n",
      "Epoch 98/100\n",
      "\u001b[1m200/200\u001b[0m \u001b[32m━━━━━━━━━━━━━━━━━━━━\u001b[0m\u001b[37m\u001b[0m \u001b[1m0s\u001b[0m 2ms/step - accuracy: 0.8704 - loss: 0.3165 - val_accuracy: 0.8469 - val_loss: 0.3516\n",
      "Epoch 99/100\n",
      "\u001b[1m200/200\u001b[0m \u001b[32m━━━━━━━━━━━━━━━━━━━━\u001b[0m\u001b[37m\u001b[0m \u001b[1m0s\u001b[0m 1ms/step - accuracy: 0.8716 - loss: 0.3146 - val_accuracy: 0.8537 - val_loss: 0.3462\n"
     ]
    },
    {
     "name": "stdout",
     "output_type": "stream",
     "text": [
      "Epoch 100/100\n",
      "\u001b[1m200/200\u001b[0m \u001b[32m━━━━━━━━━━━━━━━━━━━━\u001b[0m\u001b[37m\u001b[0m \u001b[1m0s\u001b[0m 1ms/step - accuracy: 0.8639 - loss: 0.3243 - val_accuracy: 0.8556 - val_loss: 0.3465\n"
     ]
    }
   ],
   "source": [
    "history=model.fit(X_train_scale,y_train,epochs=100,validation_split=0.2)"
   ]
  },
  {
   "cell_type": "code",
   "execution_count": 23,
   "metadata": {
    "execution": {
     "iopub.execute_input": "2024-06-10T07:45:49.559186Z",
     "iopub.status.busy": "2024-06-10T07:45:49.558718Z",
     "iopub.status.idle": "2024-06-10T07:45:49.571882Z",
     "shell.execute_reply": "2024-06-10T07:45:49.570593Z",
     "shell.execute_reply.started": "2024-06-10T07:45:49.559152Z"
    }
   },
   "outputs": [
    {
     "data": {
      "text/plain": [
       "[array([[ 0.0299785 , -0.08054576, -0.09215835, -0.00911586, -0.11045274,\n",
       "         -0.5863944 ,  0.06624439, -0.21823768, -0.10361903,  0.17074613,\n",
       "         -0.23774546],\n",
       "        [ 0.16387881, -0.78386647, -0.52792716,  0.9555827 ,  0.12621184,\n",
       "         -1.1263114 , -0.4503329 , -0.2742399 ,  0.46992558, -0.24877258,\n",
       "          0.9747462 ],\n",
       "        [ 0.12781885,  0.21753496, -0.16564927,  0.3455757 , -0.07909048,\n",
       "          0.4032309 , -0.12883537, -0.15220852, -0.09989025,  0.15768725,\n",
       "         -0.26562428],\n",
       "        [-0.15064244, -0.05771001, -0.28242278,  0.14252414,  0.6966643 ,\n",
       "         -0.09429775, -0.08585746, -0.31372115, -0.7481392 , -0.31701627,\n",
       "         -0.36214134],\n",
       "        [ 1.6744541 ,  0.15056701, -0.2867833 , -0.14714502,  0.67073023,\n",
       "          0.12259521, -0.02024382,  0.25960323,  0.11519219, -1.303637  ,\n",
       "         -0.65252835],\n",
       "        [-0.1505422 ,  0.27053893, -0.54399997,  0.04948012,  0.04970913,\n",
       "         -0.5522844 , -0.1649942 , -0.18102972, -0.21402314, -0.15568633,\n",
       "         -0.18218102],\n",
       "        [-0.25622833, -0.06500279,  0.09894297,  0.63163525, -0.0603075 ,\n",
       "          0.22108899, -0.11537123, -0.06158645,  0.5699912 , -0.29857194,\n",
       "          0.10287245],\n",
       "        [ 0.03503692, -0.05077537, -0.27124643, -0.14079686,  0.11356349,\n",
       "         -0.35027304,  0.19813813,  0.38928655,  0.2874008 , -0.06409202,\n",
       "          0.20130102],\n",
       "        [ 0.1087884 , -0.5724171 , -0.31823644, -0.46289828, -0.7076101 ,\n",
       "         -0.06088268, -0.00430442,  0.6401592 ,  0.3895711 ,  0.12382584,\n",
       "          0.05592206],\n",
       "        [ 0.14965408,  0.1991438 ,  0.5436953 ,  0.37073672,  0.0260571 ,\n",
       "          0.06410491, -0.49814543, -0.55949986, -0.3614259 ,  0.03470365,\n",
       "         -0.13530925],\n",
       "        [-0.04616864,  0.04426423,  0.24662136,  0.13083524, -0.01415018,\n",
       "         -0.17452617,  0.20318578, -0.07976536,  0.1957564 , -0.04181636,\n",
       "          0.22708933]], dtype=float32),\n",
       " array([-0.53790116,  0.55122465,  0.58672744, -0.16251653, -0.40948755,\n",
       "         0.6083588 ,  0.6989128 ,  0.01351532, -0.1751749 ,  0.2790534 ,\n",
       "        -0.20370154], dtype=float32)]"
      ]
     },
     "execution_count": 23,
     "metadata": {},
     "output_type": "execute_result"
    }
   ],
   "source": [
    "model.layers[0].get_weights()"
   ]
  },
  {
   "cell_type": "code",
   "execution_count": 24,
   "metadata": {
    "execution": {
     "iopub.execute_input": "2024-06-10T07:45:52.851504Z",
     "iopub.status.busy": "2024-06-10T07:45:52.849729Z",
     "iopub.status.idle": "2024-06-10T07:45:52.867199Z",
     "shell.execute_reply": "2024-06-10T07:45:52.865460Z",
     "shell.execute_reply.started": "2024-06-10T07:45:52.851436Z"
    }
   },
   "outputs": [
    {
     "data": {
      "text/plain": [
       "[array([[-0.92735434, -0.40979922,  0.03246032, -1.4083827 , -0.09877229,\n",
       "          0.8181905 ,  0.256791  , -0.23514299, -0.3766781 , -0.42640832,\n",
       "         -0.194188  ],\n",
       "        [ 0.48985395,  0.575984  ,  0.38410333,  0.24072522,  0.47696698,\n",
       "         -0.62512577, -0.17436764,  0.36963946,  0.70384634, -0.21973546,\n",
       "         -0.53190553],\n",
       "        [ 0.13908327,  0.1276645 ,  0.3291533 ,  0.23850146,  0.3933233 ,\n",
       "         -0.5513594 , -0.23083198, -0.11571913, -0.50322425,  0.32072595,\n",
       "          0.15019847],\n",
       "        [ 0.01273317,  0.4382878 , -0.6558495 , -0.32303897,  0.08128446,\n",
       "          0.05855736,  0.53386   ,  0.79866624,  0.6945494 , -0.22050115,\n",
       "         -0.5411507 ],\n",
       "        [ 0.04444584,  0.27348286, -0.4401773 ,  0.44421053, -0.24315429,\n",
       "          0.7019648 ,  0.32884976, -0.77155715, -0.15278697, -0.14895515,\n",
       "         -0.0490082 ],\n",
       "        [-0.23904675, -1.074597  , -0.6048861 ,  0.03263356, -0.362777  ,\n",
       "         -0.30611032, -0.8272435 ,  0.26533064, -0.07718914,  0.31039408,\n",
       "          0.36964044],\n",
       "        [ 0.529297  ,  0.2078122 ,  0.44032574,  0.05301086,  0.39253512,\n",
       "         -0.8357484 , -0.97759676,  0.07210512, -0.01784812,  0.3871389 ,\n",
       "          0.30815426],\n",
       "        [ 0.05509161, -0.38383463, -0.64183277, -0.1055707 , -0.55871344,\n",
       "         -0.23072365, -0.06889026, -0.27020568,  0.39659157,  0.2907647 ,\n",
       "         -0.31974468],\n",
       "        [-0.11620782,  0.5133444 , -0.06267712,  0.42434064,  0.60671264,\n",
       "          0.23735878, -1.1857316 ,  0.27569664,  0.17593375, -0.07497522,\n",
       "          0.3917962 ],\n",
       "        [ 0.39531183, -0.58402485, -0.16736114,  0.6933628 ,  0.27553827,\n",
       "          0.6950602 ,  0.33112556, -0.22714414, -0.39583704,  0.19067965,\n",
       "          0.18676639],\n",
       "        [ 0.5137257 ,  0.19964221,  0.09543217,  0.59779996,  0.1527894 ,\n",
       "          0.5955259 , -0.19580345, -0.05790652, -0.0582618 , -0.45565125,\n",
       "         -0.4392233 ]], dtype=float32),\n",
       " array([-0.12633562, -0.00465606,  0.7000993 , -0.06567492,  0.14808896,\n",
       "         0.36287984,  0.17373025,  0.24845538,  0.5679877 ,  0.6599546 ,\n",
       "         0.59602135], dtype=float32)]"
      ]
     },
     "execution_count": 24,
     "metadata": {},
     "output_type": "execute_result"
    }
   ],
   "source": [
    "model.layers[1].get_weights()"
   ]
  },
  {
   "cell_type": "code",
   "execution_count": 25,
   "metadata": {
    "execution": {
     "iopub.execute_input": "2024-06-10T07:45:57.242338Z",
     "iopub.status.busy": "2024-06-10T07:45:57.241870Z",
     "iopub.status.idle": "2024-06-10T07:45:57.252779Z",
     "shell.execute_reply": "2024-06-10T07:45:57.251306Z",
     "shell.execute_reply.started": "2024-06-10T07:45:57.242302Z"
    }
   },
   "outputs": [
    {
     "data": {
      "text/plain": [
       "[array([[ 0.40691677],\n",
       "        [-0.91458464],\n",
       "        [-1.0188208 ],\n",
       "        [ 0.85257816],\n",
       "        [-0.519948  ],\n",
       "        [ 0.919598  ],\n",
       "        [ 1.0647243 ],\n",
       "        [-0.3872926 ],\n",
       "        [-0.97967374],\n",
       "        [-0.6821001 ],\n",
       "        [-0.602201  ]], dtype=float32),\n",
       " array([-0.05985679], dtype=float32)]"
      ]
     },
     "execution_count": 25,
     "metadata": {},
     "output_type": "execute_result"
    }
   ],
   "source": [
    "model.layers[2].get_weights()"
   ]
  },
  {
   "cell_type": "code",
   "execution_count": 97,
   "metadata": {
    "execution": {
     "iopub.execute_input": "2024-06-10T07:45:59.961534Z",
     "iopub.status.busy": "2024-06-10T07:45:59.961057Z",
     "iopub.status.idle": "2024-06-10T07:46:00.263943Z",
     "shell.execute_reply": "2024-06-10T07:46:00.262256Z",
     "shell.execute_reply.started": "2024-06-10T07:45:59.961498Z"
    }
   },
   "outputs": [
    {
     "name": "stdout",
     "output_type": "stream",
     "text": [
      "\u001b[1m63/63\u001b[0m \u001b[32m━━━━━━━━━━━━━━━━━━━━\u001b[0m\u001b[37m\u001b[0m \u001b[1m0s\u001b[0m 2ms/step\n"
     ]
    }
   ],
   "source": [
    "y_log = model.predict(X_test_scale)"
   ]
  },
  {
   "cell_type": "code",
   "execution_count": 98,
   "metadata": {
    "execution": {
     "iopub.execute_input": "2024-06-10T07:46:02.694643Z",
     "iopub.status.busy": "2024-06-10T07:46:02.694134Z",
     "iopub.status.idle": "2024-06-10T07:46:02.701594Z",
     "shell.execute_reply": "2024-06-10T07:46:02.700049Z",
     "shell.execute_reply.started": "2024-06-10T07:46:02.694603Z"
    }
   },
   "outputs": [],
   "source": [
    "y_pred = np.where(y_log>0.5,1,0) "
   ]
  },
  {
   "cell_type": "code",
   "execution_count": 99,
   "metadata": {
    "execution": {
     "iopub.execute_input": "2024-06-10T07:46:07.098130Z",
     "iopub.status.busy": "2024-06-10T07:46:07.097623Z",
     "iopub.status.idle": "2024-06-10T07:46:07.111022Z",
     "shell.execute_reply": "2024-06-10T07:46:07.109294Z",
     "shell.execute_reply.started": "2024-06-10T07:46:07.098094Z"
    }
   },
   "outputs": [
    {
     "data": {
      "text/plain": [
       "0.8655"
      ]
     },
     "execution_count": 99,
     "metadata": {},
     "output_type": "execute_result"
    }
   ],
   "source": [
    "from sklearn.metrics import accuracy_score\n",
    "accuracy_score(y_test,y_pred)"
   ]
  },
  {
   "cell_type": "code",
   "execution_count": 100,
   "metadata": {
    "execution": {
     "iopub.execute_input": "2024-06-10T07:46:10.018308Z",
     "iopub.status.busy": "2024-06-10T07:46:10.017858Z",
     "iopub.status.idle": "2024-06-10T07:46:10.024342Z",
     "shell.execute_reply": "2024-06-10T07:46:10.022974Z",
     "shell.execute_reply.started": "2024-06-10T07:46:10.018274Z"
    }
   },
   "outputs": [],
   "source": [
    "import matplotlib.pyplot as plt\n"
   ]
  },
  {
   "cell_type": "code",
   "execution_count": 101,
   "metadata": {
    "execution": {
     "iopub.execute_input": "2024-06-10T07:46:13.640744Z",
     "iopub.status.busy": "2024-06-10T07:46:13.640247Z",
     "iopub.status.idle": "2024-06-10T07:46:13.655814Z",
     "shell.execute_reply": "2024-06-10T07:46:13.654475Z",
     "shell.execute_reply.started": "2024-06-10T07:46:13.640707Z"
    }
   },
   "outputs": [
    {
     "data": {
      "text/plain": [
       "{'accuracy': [0.7881249785423279,\n",
       "  0.7973437309265137,\n",
       "  0.8010937571525574,\n",
       "  0.815625011920929,\n",
       "  0.82421875,\n",
       "  0.8284375071525574,\n",
       "  0.8343750238418579,\n",
       "  0.840624988079071,\n",
       "  0.8453124761581421,\n",
       "  0.8504687547683716,\n",
       "  0.8534374833106995,\n",
       "  0.8579687476158142,\n",
       "  0.8600000143051147,\n",
       "  0.8592187762260437,\n",
       "  0.8587499856948853,\n",
       "  0.8615624904632568,\n",
       "  0.8615624904632568,\n",
       "  0.8607812523841858,\n",
       "  0.8631250262260437,\n",
       "  0.8612499833106995,\n",
       "  0.862500011920929,\n",
       "  0.862500011920929,\n",
       "  0.8618749976158142,\n",
       "  0.86328125,\n",
       "  0.8617187738418579,\n",
       "  0.86328125,\n",
       "  0.8637499809265137,\n",
       "  0.8626562356948853,\n",
       "  0.8642187714576721,\n",
       "  0.8653125166893005,\n",
       "  0.8606250286102295,\n",
       "  0.8645312786102295,\n",
       "  0.8628125190734863,\n",
       "  0.8635937571525574,\n",
       "  0.864062488079071,\n",
       "  0.8635937571525574,\n",
       "  0.8662499785423279,\n",
       "  0.864062488079071,\n",
       "  0.8629687428474426,\n",
       "  0.8639062643051147,\n",
       "  0.8631250262260437,\n",
       "  0.8654687404632568,\n",
       "  0.8645312786102295,\n",
       "  0.8642187714576721,\n",
       "  0.8645312786102295,\n",
       "  0.8648437261581421,\n",
       "  0.8650000095367432,\n",
       "  0.8634374737739563,\n",
       "  0.8642187714576721,\n",
       "  0.8657812476158142,\n",
       "  0.8651562333106995,\n",
       "  0.8637499809265137,\n",
       "  0.8651562333106995,\n",
       "  0.8634374737739563,\n",
       "  0.864062488079071,\n",
       "  0.8639062643051147,\n",
       "  0.8646875023841858,\n",
       "  0.8657812476158142,\n",
       "  0.8650000095367432,\n",
       "  0.8643749952316284,\n",
       "  0.8662499785423279,\n",
       "  0.8659374713897705,\n",
       "  0.8639062643051147,\n",
       "  0.8660937547683716,\n",
       "  0.8639062643051147,\n",
       "  0.8665624856948853,\n",
       "  0.8651562333106995,\n",
       "  0.8657812476158142,\n",
       "  0.8651562333106995,\n",
       "  0.8667187690734863,\n",
       "  0.8659374713897705,\n",
       "  0.8670312762260437,\n",
       "  0.8648437261581421,\n",
       "  0.8651562333106995,\n",
       "  0.8643749952316284,\n",
       "  0.8656250238418579,\n",
       "  0.8670312762260437,\n",
       "  0.8653125166893005,\n",
       "  0.8668749928474426,\n",
       "  0.8662499785423279,\n",
       "  0.8667187690734863,\n",
       "  0.8653125166893005,\n",
       "  0.8656250238418579,\n",
       "  0.8665624856948853,\n",
       "  0.8673437237739563,\n",
       "  0.8673437237739563,\n",
       "  0.8670312762260437,\n",
       "  0.8657812476158142,\n",
       "  0.8654687404632568,\n",
       "  0.8673437237739563,\n",
       "  0.8671875,\n",
       "  0.8665624856948853,\n",
       "  0.8682812452316284,\n",
       "  0.8681250214576721,\n",
       "  0.8673437237739563,\n",
       "  0.8668749928474426,\n",
       "  0.8660937547683716,\n",
       "  0.8668749928474426,\n",
       "  0.8675000071525574,\n",
       "  0.8678125143051147],\n",
       " 'loss': [0.5377643704414368,\n",
       "  0.46950289607048035,\n",
       "  0.43775707483291626,\n",
       "  0.42094773054122925,\n",
       "  0.41194233298301697,\n",
       "  0.40365687012672424,\n",
       "  0.3955616056919098,\n",
       "  0.38666293025016785,\n",
       "  0.3791135549545288,\n",
       "  0.37050095200538635,\n",
       "  0.36204513907432556,\n",
       "  0.3549501299858093,\n",
       "  0.34878018498420715,\n",
       "  0.34517616033554077,\n",
       "  0.3428730368614197,\n",
       "  0.3404775857925415,\n",
       "  0.33932068943977356,\n",
       "  0.337861031293869,\n",
       "  0.33632606267929077,\n",
       "  0.33518120646476746,\n",
       "  0.3350236117839813,\n",
       "  0.33432644605636597,\n",
       "  0.3332003057003021,\n",
       "  0.3332654535770416,\n",
       "  0.3318752646446228,\n",
       "  0.3319030702114105,\n",
       "  0.3313896954059601,\n",
       "  0.331116259098053,\n",
       "  0.33020728826522827,\n",
       "  0.33046507835388184,\n",
       "  0.3296849727630615,\n",
       "  0.3293922543525696,\n",
       "  0.32899150252342224,\n",
       "  0.3289344906806946,\n",
       "  0.3280521333217621,\n",
       "  0.32789286971092224,\n",
       "  0.3274047076702118,\n",
       "  0.327339768409729,\n",
       "  0.3272469639778137,\n",
       "  0.3268390893936157,\n",
       "  0.3262653648853302,\n",
       "  0.32623758912086487,\n",
       "  0.3258073925971985,\n",
       "  0.32568874955177307,\n",
       "  0.32524335384368896,\n",
       "  0.32542723417282104,\n",
       "  0.32428601384162903,\n",
       "  0.32493552565574646,\n",
       "  0.3244374990463257,\n",
       "  0.32403141260147095,\n",
       "  0.3236820101737976,\n",
       "  0.3237448036670685,\n",
       "  0.3234851360321045,\n",
       "  0.3233484625816345,\n",
       "  0.32272598147392273,\n",
       "  0.32274678349494934,\n",
       "  0.32197844982147217,\n",
       "  0.32301652431488037,\n",
       "  0.3220306634902954,\n",
       "  0.3223316967487335,\n",
       "  0.32177668809890747,\n",
       "  0.32180577516555786,\n",
       "  0.3216801881790161,\n",
       "  0.32142192125320435,\n",
       "  0.3210429847240448,\n",
       "  0.32119137048721313,\n",
       "  0.32107582688331604,\n",
       "  0.31990259885787964,\n",
       "  0.3208678960800171,\n",
       "  0.3203253448009491,\n",
       "  0.3205189108848572,\n",
       "  0.3196779191493988,\n",
       "  0.3193666636943817,\n",
       "  0.320990651845932,\n",
       "  0.319489449262619,\n",
       "  0.3197682499885559,\n",
       "  0.31932997703552246,\n",
       "  0.31945496797561646,\n",
       "  0.31945034861564636,\n",
       "  0.3192077875137329,\n",
       "  0.3195357322692871,\n",
       "  0.31931954622268677,\n",
       "  0.31919822096824646,\n",
       "  0.3185834586620331,\n",
       "  0.31892672181129456,\n",
       "  0.31927812099456787,\n",
       "  0.3189871907234192,\n",
       "  0.3185238838195801,\n",
       "  0.3188025951385498,\n",
       "  0.3184282183647156,\n",
       "  0.3183351755142212,\n",
       "  0.3181815445423126,\n",
       "  0.3180038332939148,\n",
       "  0.3179306387901306,\n",
       "  0.31860995292663574,\n",
       "  0.3181687295436859,\n",
       "  0.3184453845024109,\n",
       "  0.31846943497657776,\n",
       "  0.31824836134910583,\n",
       "  0.3178461492061615],\n",
       " 'val_accuracy': [0.7975000143051147,\n",
       "  0.7987499833106995,\n",
       "  0.8100000023841858,\n",
       "  0.8112499713897705,\n",
       "  0.8231250047683716,\n",
       "  0.8262500166893005,\n",
       "  0.8331249952316284,\n",
       "  0.8349999785423279,\n",
       "  0.84375,\n",
       "  0.8481249809265137,\n",
       "  0.8456249833106995,\n",
       "  0.8512499928474426,\n",
       "  0.8506249785423279,\n",
       "  0.8500000238418579,\n",
       "  0.8525000214576721,\n",
       "  0.8550000190734863,\n",
       "  0.8531249761581421,\n",
       "  0.8525000214576721,\n",
       "  0.8543750047683716,\n",
       "  0.8537499904632568,\n",
       "  0.8556249737739563,\n",
       "  0.8525000214576721,\n",
       "  0.8525000214576721,\n",
       "  0.8550000190734863,\n",
       "  0.8518750071525574,\n",
       "  0.8537499904632568,\n",
       "  0.8550000190734863,\n",
       "  0.8550000190734863,\n",
       "  0.8525000214576721,\n",
       "  0.8550000190734863,\n",
       "  0.8543750047683716,\n",
       "  0.8525000214576721,\n",
       "  0.8537499904632568,\n",
       "  0.8550000190734863,\n",
       "  0.8531249761581421,\n",
       "  0.856249988079071,\n",
       "  0.8550000190734863,\n",
       "  0.8600000143051147,\n",
       "  0.856249988079071,\n",
       "  0.8587499856948853,\n",
       "  0.8568750023841858,\n",
       "  0.8581249713897705,\n",
       "  0.8568750023841858,\n",
       "  0.8587499856948853,\n",
       "  0.8606250286102295,\n",
       "  0.8587499856948853,\n",
       "  0.8606250286102295,\n",
       "  0.856249988079071,\n",
       "  0.8581249713897705,\n",
       "  0.8631250262260437,\n",
       "  0.8631250262260437,\n",
       "  0.859375,\n",
       "  0.8606250286102295,\n",
       "  0.862500011920929,\n",
       "  0.8587499856948853,\n",
       "  0.8612499833106995,\n",
       "  0.8606250286102295,\n",
       "  0.8637499809265137,\n",
       "  0.8612499833106995,\n",
       "  0.8587499856948853,\n",
       "  0.8575000166893005,\n",
       "  0.8568750023841858,\n",
       "  0.8581249713897705,\n",
       "  0.859375,\n",
       "  0.8600000143051147,\n",
       "  0.8618749976158142,\n",
       "  0.8631250262260437,\n",
       "  0.8575000166893005,\n",
       "  0.8612499833106995,\n",
       "  0.862500011920929,\n",
       "  0.8606250286102295,\n",
       "  0.8606250286102295,\n",
       "  0.8556249737739563,\n",
       "  0.8612499833106995,\n",
       "  0.8606250286102295,\n",
       "  0.8581249713897705,\n",
       "  0.8612499833106995,\n",
       "  0.8600000143051147,\n",
       "  0.8587499856948853,\n",
       "  0.8587499856948853,\n",
       "  0.8612499833106995,\n",
       "  0.8568750023841858,\n",
       "  0.8600000143051147,\n",
       "  0.8631250262260437,\n",
       "  0.8587499856948853,\n",
       "  0.8587499856948853,\n",
       "  0.8587499856948853,\n",
       "  0.8606250286102295,\n",
       "  0.862500011920929,\n",
       "  0.8662499785423279,\n",
       "  0.8600000143051147,\n",
       "  0.8600000143051147,\n",
       "  0.8618749976158142,\n",
       "  0.8600000143051147,\n",
       "  0.8581249713897705,\n",
       "  0.862500011920929,\n",
       "  0.8612499833106995,\n",
       "  0.8606250286102295,\n",
       "  0.8631250262260437,\n",
       "  0.8581249713897705],\n",
       " 'val_loss': [0.49040713906288147,\n",
       "  0.4532197117805481,\n",
       "  0.4326770007610321,\n",
       "  0.42177292704582214,\n",
       "  0.41264569759368896,\n",
       "  0.4039141535758972,\n",
       "  0.3942964971065521,\n",
       "  0.3858121931552887,\n",
       "  0.3773043155670166,\n",
       "  0.368760883808136,\n",
       "  0.36207351088523865,\n",
       "  0.35568833351135254,\n",
       "  0.35254520177841187,\n",
       "  0.3499990403652191,\n",
       "  0.3461359441280365,\n",
       "  0.34542006254196167,\n",
       "  0.34433114528656006,\n",
       "  0.34498313069343567,\n",
       "  0.3418944180011749,\n",
       "  0.3431638479232788,\n",
       "  0.34208357334136963,\n",
       "  0.3422105014324188,\n",
       "  0.3437298834323883,\n",
       "  0.34132397174835205,\n",
       "  0.3424539268016815,\n",
       "  0.3408602774143219,\n",
       "  0.34082186222076416,\n",
       "  0.3407174050807953,\n",
       "  0.3427892327308655,\n",
       "  0.3405360281467438,\n",
       "  0.3416934907436371,\n",
       "  0.34087952971458435,\n",
       "  0.3395225405693054,\n",
       "  0.33951690793037415,\n",
       "  0.34097549319267273,\n",
       "  0.33857235312461853,\n",
       "  0.33947232365608215,\n",
       "  0.33772167563438416,\n",
       "  0.339449018239975,\n",
       "  0.33870479464530945,\n",
       "  0.33920398354530334,\n",
       "  0.3383060097694397,\n",
       "  0.33784550428390503,\n",
       "  0.33755549788475037,\n",
       "  0.3370985686779022,\n",
       "  0.33688926696777344,\n",
       "  0.33744117617607117,\n",
       "  0.33734771609306335,\n",
       "  0.33759596943855286,\n",
       "  0.336172878742218,\n",
       "  0.33629366755485535,\n",
       "  0.33900123834609985,\n",
       "  0.3361071050167084,\n",
       "  0.33723458647727966,\n",
       "  0.338502436876297,\n",
       "  0.3372689485549927,\n",
       "  0.33805084228515625,\n",
       "  0.33759772777557373,\n",
       "  0.3377196192741394,\n",
       "  0.3378404378890991,\n",
       "  0.3373256325721741,\n",
       "  0.33785685896873474,\n",
       "  0.3378707766532898,\n",
       "  0.33738505840301514,\n",
       "  0.33870819211006165,\n",
       "  0.33747100830078125,\n",
       "  0.3366544842720032,\n",
       "  0.3403973877429962,\n",
       "  0.33739006519317627,\n",
       "  0.3374227285385132,\n",
       "  0.33682873845100403,\n",
       "  0.3372728228569031,\n",
       "  0.34254103899002075,\n",
       "  0.33687180280685425,\n",
       "  0.3373788595199585,\n",
       "  0.34070929884910583,\n",
       "  0.33874425292015076,\n",
       "  0.3380542993545532,\n",
       "  0.3372163474559784,\n",
       "  0.3393591344356537,\n",
       "  0.3386884033679962,\n",
       "  0.3434327244758606,\n",
       "  0.33830443024635315,\n",
       "  0.337650328874588,\n",
       "  0.33811837434768677,\n",
       "  0.34055739641189575,\n",
       "  0.33739304542541504,\n",
       "  0.339926153421402,\n",
       "  0.3368944823741913,\n",
       "  0.3369431793689728,\n",
       "  0.339070588350296,\n",
       "  0.34089091420173645,\n",
       "  0.33847057819366455,\n",
       "  0.3390941619873047,\n",
       "  0.339054137468338,\n",
       "  0.33867913484573364,\n",
       "  0.33900195360183716,\n",
       "  0.3400673568248749,\n",
       "  0.3383392095565796,\n",
       "  0.3397045135498047]}"
      ]
     },
     "execution_count": 101,
     "metadata": {},
     "output_type": "execute_result"
    }
   ],
   "source": [
    "history.history"
   ]
  },
  {
   "cell_type": "code",
   "execution_count": 102,
   "metadata": {
    "execution": {
     "iopub.execute_input": "2024-06-10T07:46:26.666022Z",
     "iopub.status.busy": "2024-06-10T07:46:26.665559Z",
     "iopub.status.idle": "2024-06-10T07:46:26.940083Z",
     "shell.execute_reply": "2024-06-10T07:46:26.938663Z",
     "shell.execute_reply.started": "2024-06-10T07:46:26.665961Z"
    }
   },
   "outputs": [
    {
     "data": {
      "text/plain": [
       "[<matplotlib.lines.Line2D at 0x7e3a822a3910>]"
      ]
     },
     "execution_count": 102,
     "metadata": {},
     "output_type": "execute_result"
    },
    {
     "data": {
      "image/png": "[encoded data removed]",
      "text/plain": [
       "<Figure size 640x480 with 1 Axes>"
      ]
     },
     "metadata": {},
     "output_type": "display_data"
    }
   ],
   "source": [
    "plt.plot(history.history['loss'])\n",
    "plt.plot(history.history['val_loss'])"
   ]
  },
  {
   "cell_type": "code",
   "execution_count": 103,
   "metadata": {
    "execution": {
     "iopub.execute_input": "2024-06-10T07:47:24.015419Z",
     "iopub.status.busy": "2024-06-10T07:47:24.014926Z",
     "iopub.status.idle": "2024-06-10T07:47:24.318852Z",
     "shell.execute_reply": "2024-06-10T07:47:24.317567Z",
     "shell.execute_reply.started": "2024-06-10T07:47:24.015385Z"
    }
   },
   "outputs": [
    {
     "data": {
      "text/plain": [
       "[<matplotlib.lines.Line2D at 0x7e3a33799600>]"
      ]
     },
     "execution_count": 103,
     "metadata": {},
     "output_type": "execute_result"
    },
    {
     "data": {
      "image/png": "[encoded data removed]",
      "text/plain": [
       "<Figure size 640x480 with 1 Axes>"
      ]
     },
     "metadata": {},
     "output_type": "display_data"
    }
   ],
   "source": [
    "plt.plot(history.history['accuracy'])\n",
    "plt.plot(history.history['val_accuracy'])"
   ]
  }
 ],
 "metadata": {
  "kaggle": {
   "accelerator": "none",
   "dataSources": [
    {
     "datasetId": 869651,
     "sourceId": 1481789,
     "sourceType": "datasetVersion"
    }
   ],
   "dockerImageVersionId": 30732,
   "isGpuEnabled": false,
   "isInternetEnabled": false,
   "language": "python",
   "sourceType": "notebook"
  },
  "kernelspec": {
   "display_name": "Python 3 (ipykernel)",
   "language": "python",
   "name": "python3"
  },
  "language_info": {
   "codemirror_mode": {
    "name": "ipython",
    "version": 3
   },
   "file_extension": ".py",
   "mimetype": "text/x-python",
   "name": "python",
   "nbconvert_exporter": "python",
   "pygments_lexer": "ipython3",
   "version": "3.11.5"
  }
 },
 "nbformat": 4,
 "nbformat_minor": 4
}
